{
 "cells": [
  {
   "cell_type": "markdown",
   "id": "6361efc4-03d7-4281-a09e-06e805e90ef2",
   "metadata": {
    "tags": []
   },
   "source": [
    "# Reprojecting & Clipping\n",
    "\n",
    "In this lesson we will learn how to change the CRS of a `geopandas.GeoDataFrame` and how to clip different geometries using a polygon in a `geopandas.GeoDataFrame`. \n",
    "Through doing these operations we will create the following map of roads and populated places in Alaska.\n",
    "\n",
    "## Data\n",
    "We will use three datasets in this lesson. \n",
    "\n",
    "**First dataset**\n",
    "The first dataset is a [TIGER shapefile from the United States Census Bureau](https://www.census.gov/geographies/mapping-files/time-series/geo/tiger-line-file.2022.html#list-tab-790442341). \n",
    "\n",
    "We will use the shapefiles for the US states. \n",
    "Follow these steps to download shapefile with the United States' states:\n",
    "\n",
    "1. At the bottom of the [2022 page](https://www.census.gov/geographies/mapping-files/time-series/geo/tiger-line-file.2022.html#list-tab-790442341), under Download, click on \"Web Interface\"\n",
    "2. For year, select 2022, and for layer type select \"States (and equivalent)\". Click submit. \n",
    "3. Click on \"Download national file\".\n",
    "\n",
    "You can check the [metadata for all the TIGER shapefiles here](https://www.census.gov/programs-surveys/geography/technical-documentation/complete-technical-documentation/tiger-geo-line.html). \n",
    "The columns for this shapefile are:\n",
    "\n",
    "![Source: TIGER/Line Shapefiles Technical Documentation](/images/tiger_shp_columns.png)\n",
    "\n",
    "**Second dataset**\n",
    "The second dataset we'll use is [Natural Earth's simple medium scale populated places dataset](https://www.naturalearthdata.com/downloads/50m-cultural-vectors/). We can obtain this dataset by downloading the shapefile (choose the one that says \"simple (less columns)\").\n",
    "\n",
    "**Third dataset**\n",
    "The third dataset we'll use is [Natural Earth's road dataset](https://www.naturalearthdata.com/downloads/10m-cultural-vectors/roads/). \n",
    "We can obtain this dataset by downloading the shapefile \n",
    "\n",
    "**Move all datasets to a directory named \"data\" inside your working directory.**"
   ]
  },
  {
   "cell_type": "markdown",
   "id": "6c656c84-99e3-4368-814f-e641db079ad3",
   "metadata": {},
   "source": []
  }
 ],
 "metadata": {
  "kernelspec": {
   "display_name": "Python 3 (ipykernel)",
   "language": "python",
   "name": "python3"
  },
  "language_info": {
   "codemirror_mode": {
    "name": "ipython",
    "version": 3
   },
   "file_extension": ".py",
   "mimetype": "text/x-python",
   "name": "python",
   "nbconvert_exporter": "python",
   "pygments_lexer": "ipython3",
   "version": "3.7.13"
  }
 },
 "nbformat": 4,
 "nbformat_minor": 5
}
