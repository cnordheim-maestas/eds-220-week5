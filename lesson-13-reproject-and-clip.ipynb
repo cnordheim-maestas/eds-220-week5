{
 "cells": [
  {
   "cell_type": "markdown",
   "id": "6361efc4-03d7-4281-a09e-06e805e90ef2",
   "metadata": {
    "tags": []
   },
   "source": [
    "# Reprojecting & Clipping\n",
    "\n",
    "In this lesson we will learn how to change the CRS of a `geopandas.GeoDataFrame` and how to clip different geometries using a polygon in a `geopandas.GeoDataFrame`. \n",
    "Through doing these operations we will create the following map of roads and populated places in Alaska.\n",
    "\n",
    "## Data\n",
    "We will use three datasets in this lesson. \n",
    "\n",
    "**First dataset**\n",
    "The first dataset is a [TIGER shapefile from the United States Census Bureau](https://www.census.gov/geographies/mapping-files/time-series/geo/tiger-line-file.2022.html#list-tab-790442341). \n",
    "\n",
    "We will use the shapefiles for the US states. \n",
    "Follow these steps to download shapefile with the United States' states:\n",
    "\n",
    "1. At the bottom of the [2022 page](https://www.census.gov/geographies/mapping-files/time-series/geo/tiger-line-file.2022.html#list-tab-790442341), under Download, click on \"Web Interface\"\n",
    "2. For year, select 2022, and for layer type select \"States (and equivalent)\". Click submit. \n",
    "3. Click on \"Download national file\".\n",
    "\n",
    "You can check the [metadata for all the TIGER shapefiles here](https://www.census.gov/programs-surveys/geography/technical-documentation/complete-technical-documentation/tiger-geo-line.html). \n",
    "The columns for this shapefile are:\n",
    "\n",
    "![Source: TIGER/Line Shapefiles Technical Documentation](/images/tiger_shp_columns.png)\n",
    "\n",
    "**Second dataset**\n",
    "The second dataset we'll use is [Natural Earth's simple medium scale populated places dataset](https://www.naturalearthdata.com/downloads/50m-cultural-vectors/). We can obtain this dataset by downloading the shapefile (choose the one that says \"simple (less columns)\").\n",
    "\n",
    "**Third dataset**\n",
    "The third dataset we'll use is [Natural Earth's road dataset](https://www.naturalearthdata.com/downloads/10m-cultural-vectors/roads/). \n",
    "We can obtain this dataset by downloading the shapefile \n",
    "\n",
    "**Move all datasets to a directory named \"data\" inside your working directory.**"
   ]
  },
  {
   "cell_type": "markdown",
   "id": "6c656c84-99e3-4368-814f-e641db079ad3",
   "metadata": {},
   "source": [
    "## Import data\n",
    "\n",
    "Let's start by loading our libraries and then importing the datasets we'll use."
   ]
  },
  {
   "cell_type": "code",
   "execution_count": 22,
   "id": "b01e0e46-d249-4787-bc8e-de0864809835",
   "metadata": {
    "tags": []
   },
   "outputs": [],
   "source": [
    "import geopandas as gpd\n",
    "import pandas as pd\n",
    "import matplotlib.pyplot as plt\n",
    "\n",
    "# this is our first time using this function\n",
    "from shapely.geometry import box"
   ]
  },
  {
   "cell_type": "code",
   "execution_count": 23,
   "id": "86302721-3ae2-40ec-9ff5-dcd71f53085c",
   "metadata": {
    "tags": []
   },
   "outputs": [],
   "source": [
    "# display all columns when looking at dataframes\n",
    "pd.set_option(\"display.max.columns\", None)\n",
    "\n",
    "# ----- IMPORT DATA -----\n",
    "# states from US Census TIGER files\n",
    "states = gpd.read_file('data/tl_2022_us_state/tl_2022_us_state.shp')\n",
    "# make column names small caps\n",
    "states.columns = states.columns.str.lower()\n",
    "\n",
    "# populated places from Natural Earth\n",
    "places = gpd.read_file('data/ne_50m_populated_places/ne_50m_populated_places.shp')\n",
    "\n",
    "# roads from Natural Earth\n",
    "roads = gpd.read_file('data/ne_10m_roads/ne_10m_roads.shp')"
   ]
  },
  {
   "cell_type": "markdown",
   "id": "c3ad266e-fa96-4816-aeb0-11c66c2157dd",
   "metadata": {},
   "source": [
    "## Prepare Alaska polygon\n",
    "\n",
    "### Exploration\n",
    "\n",
    "Let's start by taking taking a look at our stats geo-dataframe. \n",
    "Since this is a geospatial dataset, exploration should include *at least* checking the head of the dataset, plotting the data, and looking at its CRS."
   ]
  },
  {
   "cell_type": "code",
   "execution_count": 24,
   "id": "3314e3c6-2cde-4077-8fa7-e313d38d5597",
   "metadata": {
    "tags": []
   },
   "outputs": [
    {
     "name": "stdout",
     "output_type": "stream",
     "text": [
      "epsg:4269\n"
     ]
    },
    {
     "data": {
      "text/html": [
       "<div>\n",
       "<style scoped>\n",
       "    .dataframe tbody tr th:only-of-type {\n",
       "        vertical-align: middle;\n",
       "    }\n",
       "\n",
       "    .dataframe tbody tr th {\n",
       "        vertical-align: top;\n",
       "    }\n",
       "\n",
       "    .dataframe thead th {\n",
       "        text-align: right;\n",
       "    }\n",
       "</style>\n",
       "<table border=\"1\" class=\"dataframe\">\n",
       "  <thead>\n",
       "    <tr style=\"text-align: right;\">\n",
       "      <th></th>\n",
       "      <th>region</th>\n",
       "      <th>division</th>\n",
       "      <th>statefp</th>\n",
       "      <th>statens</th>\n",
       "      <th>geoid</th>\n",
       "      <th>stusps</th>\n",
       "      <th>name</th>\n",
       "      <th>lsad</th>\n",
       "      <th>mtfcc</th>\n",
       "      <th>funcstat</th>\n",
       "      <th>aland</th>\n",
       "      <th>awater</th>\n",
       "      <th>intptlat</th>\n",
       "      <th>intptlon</th>\n",
       "      <th>geometry</th>\n",
       "    </tr>\n",
       "  </thead>\n",
       "  <tbody>\n",
       "    <tr>\n",
       "      <th>0</th>\n",
       "      <td>3</td>\n",
       "      <td>5</td>\n",
       "      <td>54</td>\n",
       "      <td>01779805</td>\n",
       "      <td>54</td>\n",
       "      <td>WV</td>\n",
       "      <td>West Virginia</td>\n",
       "      <td>00</td>\n",
       "      <td>G4000</td>\n",
       "      <td>A</td>\n",
       "      <td>62266456923</td>\n",
       "      <td>489045863</td>\n",
       "      <td>+38.6472854</td>\n",
       "      <td>-080.6183274</td>\n",
       "      <td>POLYGON ((-77.75438 39.33346, -77.75422 39.333...</td>\n",
       "    </tr>\n",
       "    <tr>\n",
       "      <th>1</th>\n",
       "      <td>3</td>\n",
       "      <td>5</td>\n",
       "      <td>12</td>\n",
       "      <td>00294478</td>\n",
       "      <td>12</td>\n",
       "      <td>FL</td>\n",
       "      <td>Florida</td>\n",
       "      <td>00</td>\n",
       "      <td>G4000</td>\n",
       "      <td>A</td>\n",
       "      <td>138962819934</td>\n",
       "      <td>45971472526</td>\n",
       "      <td>+28.3989775</td>\n",
       "      <td>-082.5143005</td>\n",
       "      <td>MULTIPOLYGON (((-83.10874 24.62949, -83.10711 ...</td>\n",
       "    </tr>\n",
       "    <tr>\n",
       "      <th>2</th>\n",
       "      <td>2</td>\n",
       "      <td>3</td>\n",
       "      <td>17</td>\n",
       "      <td>01779784</td>\n",
       "      <td>17</td>\n",
       "      <td>IL</td>\n",
       "      <td>Illinois</td>\n",
       "      <td>00</td>\n",
       "      <td>G4000</td>\n",
       "      <td>A</td>\n",
       "      <td>143778515726</td>\n",
       "      <td>6216539665</td>\n",
       "      <td>+40.1028754</td>\n",
       "      <td>-089.1526108</td>\n",
       "      <td>POLYGON ((-87.89243 38.28285, -87.89334 38.282...</td>\n",
       "    </tr>\n",
       "  </tbody>\n",
       "</table>\n",
       "</div>"
      ],
      "text/plain": [
       "  region division statefp   statens geoid stusps           name lsad  mtfcc  \\\n",
       "0      3        5      54  01779805    54     WV  West Virginia   00  G4000   \n",
       "1      3        5      12  00294478    12     FL        Florida   00  G4000   \n",
       "2      2        3      17  01779784    17     IL       Illinois   00  G4000   \n",
       "\n",
       "  funcstat         aland       awater     intptlat      intptlon  \\\n",
       "0        A   62266456923    489045863  +38.6472854  -080.6183274   \n",
       "1        A  138962819934  45971472526  +28.3989775  -082.5143005   \n",
       "2        A  143778515726   6216539665  +40.1028754  -089.1526108   \n",
       "\n",
       "                                            geometry  \n",
       "0  POLYGON ((-77.75438 39.33346, -77.75422 39.333...  \n",
       "1  MULTIPOLYGON (((-83.10874 24.62949, -83.10711 ...  \n",
       "2  POLYGON ((-87.89243 38.28285, -87.89334 38.282...  "
      ]
     },
     "execution_count": 24,
     "metadata": {},
     "output_type": "execute_result"
    }
   ],
   "source": [
    "# print the CRS\n",
    "print(states.crs)\n",
    "\n",
    "# look at first five columns\n",
    "states.head(3)"
   ]
  },
  {
   "cell_type": "code",
   "execution_count": 25,
   "id": "7c9d13e2-140d-4dd6-b458-5537e8e08be4",
   "metadata": {
    "tags": []
   },
   "outputs": [
    {
     "name": "stderr",
     "output_type": "stream",
     "text": [
      "/opt/python/3.7.13/lib/python3.7/site-packages/geopandas/plotting.py:51: ShapelyDeprecationWarning: The 'type' attribute is deprecated, and will be removed in the future. You can use the 'geom_type' attribute instead.\n",
      "  if geom is not None and geom.type.startswith(prefix) and not geom.is_empty:\n"
     ]
    },
    {
     "data": {
      "text/plain": [
       "<AxesSubplot:>"
      ]
     },
     "execution_count": 25,
     "metadata": {},
     "output_type": "execute_result"
    },
    {
     "data": {
      "image/png": "[encoded data removed]",
      "text/plain": [
       "<Figure size 640x480 with 1 Axes>"
      ]
     },
     "metadata": {},
     "output_type": "display_data"
    }
   ],
   "source": [
    "states.plot()"
   ]
  },
  {
   "cell_type": "markdown",
   "id": "6f9b05be-2afa-4533-94e9-e0cb4711313e",
   "metadata": {},
   "source": [
    "### Selection\n",
    "\n",
    "For this lesson, we are intersted in plotting data in Alaska. \n",
    "Let's start by selecting this data:"
   ]
  },
  {
   "cell_type": "code",
   "execution_count": 26,
   "id": "b5254d2d-7356-4031-88d3-8814e85a2e0b",
   "metadata": {
    "tags": []
   },
   "outputs": [
    {
     "name": "stderr",
     "output_type": "stream",
     "text": [
      "/opt/python/3.7.13/lib/python3.7/site-packages/geopandas/plotting.py:51: ShapelyDeprecationWarning: The 'type' attribute is deprecated, and will be removed in the future. You can use the 'geom_type' attribute instead.\n",
      "  if geom is not None and geom.type.startswith(prefix) and not geom.is_empty:\n"
     ]
    },
    {
     "data": {
      "text/plain": [
       "<AxesSubplot:>"
      ]
     },
     "execution_count": 26,
     "metadata": {},
     "output_type": "execute_result"
    },
    {
     "data": {
      "image/png": "[encoded data removed]",
      "text/plain": [
       "<Figure size 640x480 with 1 Axes>"
      ]
     },
     "metadata": {},
     "output_type": "display_data"
    }
   ],
   "source": [
    "# select Alaska from states\n",
    "alaska = states[states.name =='Alaska']\n",
    "alaska.plot()"
   ]
  },
  {
   "cell_type": "markdown",
   "id": "5668f8d0-3520-4697-8213-8a39e05da353",
   "metadata": {},
   "source": [
    "### Reprojecting\n",
    "\n",
    "As in our previous lesson, we bump into the issue of Alaska's islands elongating the map. \n",
    "To fix this, we will reproject the Alaska geo-dataframe. \n",
    "**Reprojecting** means precisely this, changing the coordinate reference system of your geospatial data. \n",
    "In our case we will reproject the Alaska geo-dataframe to the CRS EPSG:3338. \n",
    "This CRS is a *projected* CRS, better suited for working with data from Alaska:\n",
    "\n",
    "![Source: [spatialreference.org](https://spatialreference.org/ref/epsg/nad83-alaska-albers/) ](/images/epsg_3338.png)\n",
    "\n",
    "Changing CRSs in GeoPandas is very simple using the `to_crs()` method for `gpd.GeoDataFrame`s. \n",
    "The general syntax is:\n",
    "```python\n",
    "updated_geodf = geodf.to_crs(new_crs)\n",
    "```\n",
    "where:\n",
    "\n",
    "- `updated_geodf` is the output of the method, a new geodataframe (`to_crs()` does not work in place), \n",
    "- `geodf` is the `gpd.GeoDataFrame` we want to transform, \n",
    "- `new_crs` an object of type CRS or string representing the CRS (ex: `'epsg:3338'`), the CRS we want to convert to. \n",
    "\n",
    "In our case:"
   ]
  },
  {
   "cell_type": "code",
   "execution_count": 27,
   "id": "1d5d7aed-2c04-43b2-ac66-e358c158d383",
   "metadata": {
    "tags": []
   },
   "outputs": [
    {
     "name": "stderr",
     "output_type": "stream",
     "text": [
      "/opt/python/3.7.13/lib/python3.7/site-packages/geopandas/plotting.py:51: ShapelyDeprecationWarning: The 'type' attribute is deprecated, and will be removed in the future. You can use the 'geom_type' attribute instead.\n",
      "  if geom is not None and geom.type.startswith(prefix) and not geom.is_empty:\n"
     ]
    },
    {
     "data": {
      "text/plain": [
       "<AxesSubplot:>"
      ]
     },
     "execution_count": 27,
     "metadata": {},
     "output_type": "execute_result"
    },
    {
     "data": {
      "image/png": "[encoded data removed]",
      "text/plain": [
       "<Figure size 640x480 with 1 Axes>"
      ]
     },
     "metadata": {},
     "output_type": "display_data"
    }
   ],
   "source": [
    "# change to projected CRS optimized for Alaska\n",
    "alaska = alaska.to_crs('epsg:3338')\n",
    "alaska.plot()"
   ]
  },
  {
   "cell_type": "code",
   "execution_count": 28,
   "id": "60441600-e589-4f38-9b00-ac8639bfc8e2",
   "metadata": {
    "tags": []
   },
   "outputs": [
    {
     "name": "stdout",
     "output_type": "stream",
     "text": [
      "is this CRS projected?  True\n"
     ]
    },
    {
     "data": {
      "text/plain": [
       "<Projected CRS: EPSG:3338>\n",
       "Name: NAD83 / Alaska Albers\n",
       "Axis Info [cartesian]:\n",
       "- X[east]: Easting (metre)\n",
       "- Y[north]: Northing (metre)\n",
       "Area of Use:\n",
       "- name: United States (USA) - Alaska.\n",
       "- bounds: (172.42, 51.3, -129.99, 71.4)\n",
       "Coordinate Operation:\n",
       "- name: Alaska Albers (meters)\n",
       "- method: Albers Equal Area\n",
       "Datum: North American Datum 1983\n",
       "- Ellipsoid: GRS 1980\n",
       "- Prime Meridian: Greenwich"
      ]
     },
     "execution_count": 28,
     "metadata": {},
     "output_type": "execute_result"
    }
   ],
   "source": [
    "# check new CRS\n",
    "print('is this CRS projected? ', alaska.crs.is_projected)\n",
    "alaska.crs"
   ]
  },
  {
   "cell_type": "markdown",
   "id": "1dd8b64a-593e-4a5d-b22a-b49d4dd6d413",
   "metadata": {},
   "source": [
    "## Prepare populated places\n",
    "\n",
    "### Exploration \n",
    "\n",
    "Let's now explore the populated places data. "
   ]
  },
  {
   "cell_type": "code",
   "execution_count": 29,
   "id": "3c114547-c2a5-4d89-ba04-c794842d36c8",
   "metadata": {
    "tags": []
   },
   "outputs": [
    {
     "name": "stdout",
     "output_type": "stream",
     "text": [
      "epsg:4326\n"
     ]
    },
    {
     "data": {
      "text/html": [
       "<div>\n",
       "<style scoped>\n",
       "    .dataframe tbody tr th:only-of-type {\n",
       "        vertical-align: middle;\n",
       "    }\n",
       "\n",
       "    .dataframe tbody tr th {\n",
       "        vertical-align: top;\n",
       "    }\n",
       "\n",
       "    .dataframe thead th {\n",
       "        text-align: right;\n",
       "    }\n",
       "</style>\n",
       "<table border=\"1\" class=\"dataframe\">\n",
       "  <thead>\n",
       "    <tr style=\"text-align: right;\">\n",
       "      <th></th>\n",
       "      <th>SCALERANK</th>\n",
       "      <th>NATSCALE</th>\n",
       "      <th>LABELRANK</th>\n",
       "      <th>FEATURECLA</th>\n",
       "      <th>NAME</th>\n",
       "      <th>NAMEPAR</th>\n",
       "      <th>NAMEALT</th>\n",
       "      <th>NAMEASCII</th>\n",
       "      <th>ADM0CAP</th>\n",
       "      <th>CAPIN</th>\n",
       "      <th>WORLDCITY</th>\n",
       "      <th>MEGACITY</th>\n",
       "      <th>SOV0NAME</th>\n",
       "      <th>SOV_A3</th>\n",
       "      <th>ADM0NAME</th>\n",
       "      <th>ADM0_A3</th>\n",
       "      <th>ADM1NAME</th>\n",
       "      <th>ISO_A2</th>\n",
       "      <th>NOTE</th>\n",
       "      <th>LATITUDE</th>\n",
       "      <th>LONGITUDE</th>\n",
       "      <th>POP_MAX</th>\n",
       "      <th>POP_MIN</th>\n",
       "      <th>POP_OTHER</th>\n",
       "      <th>RANK_MAX</th>\n",
       "      <th>RANK_MIN</th>\n",
       "      <th>MEGANAME</th>\n",
       "      <th>LS_NAME</th>\n",
       "      <th>MAX_POP10</th>\n",
       "      <th>MAX_POP20</th>\n",
       "      <th>MAX_POP50</th>\n",
       "      <th>MAX_POP300</th>\n",
       "      <th>MAX_POP310</th>\n",
       "      <th>MAX_NATSCA</th>\n",
       "      <th>MIN_AREAKM</th>\n",
       "      <th>MAX_AREAKM</th>\n",
       "      <th>MIN_AREAMI</th>\n",
       "      <th>MAX_AREAMI</th>\n",
       "      <th>MIN_PERKM</th>\n",
       "      <th>MAX_PERKM</th>\n",
       "      <th>MIN_PERMI</th>\n",
       "      <th>MAX_PERMI</th>\n",
       "      <th>MIN_BBXMIN</th>\n",
       "      <th>MAX_BBXMIN</th>\n",
       "      <th>MIN_BBXMAX</th>\n",
       "      <th>MAX_BBXMAX</th>\n",
       "      <th>MIN_BBYMIN</th>\n",
       "      <th>MAX_BBYMIN</th>\n",
       "      <th>MIN_BBYMAX</th>\n",
       "      <th>MAX_BBYMAX</th>\n",
       "      <th>MEAN_BBXC</th>\n",
       "      <th>MEAN_BBYC</th>\n",
       "      <th>TIMEZONE</th>\n",
       "      <th>UN_FID</th>\n",
       "      <th>POP1950</th>\n",
       "      <th>POP1955</th>\n",
       "      <th>POP1960</th>\n",
       "      <th>POP1965</th>\n",
       "      <th>POP1970</th>\n",
       "      <th>POP1975</th>\n",
       "      <th>POP1980</th>\n",
       "      <th>POP1985</th>\n",
       "      <th>POP1990</th>\n",
       "      <th>POP1995</th>\n",
       "      <th>POP2000</th>\n",
       "      <th>POP2005</th>\n",
       "      <th>POP2010</th>\n",
       "      <th>POP2015</th>\n",
       "      <th>POP2020</th>\n",
       "      <th>POP2025</th>\n",
       "      <th>POP2050</th>\n",
       "      <th>MIN_ZOOM</th>\n",
       "      <th>WIKIDATAID</th>\n",
       "      <th>WOF_ID</th>\n",
       "      <th>CAPALT</th>\n",
       "      <th>NAME_EN</th>\n",
       "      <th>NAME_DE</th>\n",
       "      <th>NAME_ES</th>\n",
       "      <th>NAME_FR</th>\n",
       "      <th>NAME_PT</th>\n",
       "      <th>NAME_RU</th>\n",
       "      <th>NAME_ZH</th>\n",
       "      <th>LABEL</th>\n",
       "      <th>NAME_AR</th>\n",
       "      <th>NAME_BN</th>\n",
       "      <th>NAME_EL</th>\n",
       "      <th>NAME_HI</th>\n",
       "      <th>NAME_HU</th>\n",
       "      <th>NAME_ID</th>\n",
       "      <th>NAME_IT</th>\n",
       "      <th>NAME_JA</th>\n",
       "      <th>NAME_KO</th>\n",
       "      <th>NAME_NL</th>\n",
       "      <th>NAME_PL</th>\n",
       "      <th>NAME_SV</th>\n",
       "      <th>NAME_TR</th>\n",
       "      <th>NAME_VI</th>\n",
       "      <th>NE_ID</th>\n",
       "      <th>NAME_FA</th>\n",
       "      <th>NAME_HE</th>\n",
       "      <th>NAME_UK</th>\n",
       "      <th>NAME_UR</th>\n",
       "      <th>NAME_ZHT</th>\n",
       "      <th>GEONAMESID</th>\n",
       "      <th>FCLASS_ISO</th>\n",
       "      <th>FCLASS_US</th>\n",
       "      <th>FCLASS_FR</th>\n",
       "      <th>FCLASS_RU</th>\n",
       "      <th>FCLASS_ES</th>\n",
       "      <th>FCLASS_CN</th>\n",
       "      <th>FCLASS_TW</th>\n",
       "      <th>FCLASS_IN</th>\n",
       "      <th>FCLASS_NP</th>\n",
       "      <th>FCLASS_PK</th>\n",
       "      <th>FCLASS_DE</th>\n",
       "      <th>FCLASS_GB</th>\n",
       "      <th>FCLASS_BR</th>\n",
       "      <th>FCLASS_IL</th>\n",
       "      <th>FCLASS_PS</th>\n",
       "      <th>FCLASS_SA</th>\n",
       "      <th>FCLASS_EG</th>\n",
       "      <th>FCLASS_MA</th>\n",
       "      <th>FCLASS_PT</th>\n",
       "      <th>FCLASS_AR</th>\n",
       "      <th>FCLASS_JP</th>\n",
       "      <th>FCLASS_KO</th>\n",
       "      <th>FCLASS_VN</th>\n",
       "      <th>FCLASS_TR</th>\n",
       "      <th>FCLASS_ID</th>\n",
       "      <th>FCLASS_PL</th>\n",
       "      <th>FCLASS_GR</th>\n",
       "      <th>FCLASS_IT</th>\n",
       "      <th>FCLASS_NL</th>\n",
       "      <th>FCLASS_SE</th>\n",
       "      <th>FCLASS_BD</th>\n",
       "      <th>FCLASS_UA</th>\n",
       "      <th>FCLASS_TLC</th>\n",
       "      <th>geometry</th>\n",
       "    </tr>\n",
       "  </thead>\n",
       "  <tbody>\n",
       "    <tr>\n",
       "      <th>0</th>\n",
       "      <td>10</td>\n",
       "      <td>1</td>\n",
       "      <td>5</td>\n",
       "      <td>Admin-1 region capital</td>\n",
       "      <td>Bombo</td>\n",
       "      <td>NaN</td>\n",
       "      <td>NaN</td>\n",
       "      <td>Bombo</td>\n",
       "      <td>0</td>\n",
       "      <td>NaN</td>\n",
       "      <td>0</td>\n",
       "      <td>0</td>\n",
       "      <td>Uganda</td>\n",
       "      <td>UGA</td>\n",
       "      <td>Uganda</td>\n",
       "      <td>UGA</td>\n",
       "      <td>Bamunanika</td>\n",
       "      <td>UG</td>\n",
       "      <td>NaN</td>\n",
       "      <td>0.583299</td>\n",
       "      <td>32.533300</td>\n",
       "      <td>75000</td>\n",
       "      <td>21000</td>\n",
       "      <td>0.0</td>\n",
       "      <td>8</td>\n",
       "      <td>7</td>\n",
       "      <td>NaN</td>\n",
       "      <td>NaN</td>\n",
       "      <td>0.0</td>\n",
       "      <td>0.0</td>\n",
       "      <td>0.0</td>\n",
       "      <td>0.0</td>\n",
       "      <td>0.0</td>\n",
       "      <td>0.0</td>\n",
       "      <td>0.0</td>\n",
       "      <td>0.0</td>\n",
       "      <td>0.0</td>\n",
       "      <td>0.0</td>\n",
       "      <td>0.0</td>\n",
       "      <td>0.0</td>\n",
       "      <td>0.0</td>\n",
       "      <td>0.0</td>\n",
       "      <td>0.0</td>\n",
       "      <td>0.0</td>\n",
       "      <td>0.0</td>\n",
       "      <td>0.0</td>\n",
       "      <td>0.0</td>\n",
       "      <td>0.0</td>\n",
       "      <td>0.0</td>\n",
       "      <td>0.0</td>\n",
       "      <td>0.0</td>\n",
       "      <td>0.0</td>\n",
       "      <td>NaN</td>\n",
       "      <td>0.0</td>\n",
       "      <td>0.0</td>\n",
       "      <td>0.0</td>\n",
       "      <td>0.0</td>\n",
       "      <td>0.0</td>\n",
       "      <td>0.0</td>\n",
       "      <td>0.0</td>\n",
       "      <td>0.0</td>\n",
       "      <td>0.0</td>\n",
       "      <td>0.0</td>\n",
       "      <td>0.0</td>\n",
       "      <td>0.0</td>\n",
       "      <td>0.0</td>\n",
       "      <td>0.0</td>\n",
       "      <td>0.0</td>\n",
       "      <td>0.0</td>\n",
       "      <td>0.0</td>\n",
       "      <td>0.0</td>\n",
       "      <td>7.0</td>\n",
       "      <td>Q4940747</td>\n",
       "      <td>1141906025</td>\n",
       "      <td>0</td>\n",
       "      <td>Bombo</td>\n",
       "      <td>Bombo</td>\n",
       "      <td>Bombo</td>\n",
       "      <td>Bombo</td>\n",
       "      <td>Bombo</td>\n",
       "      <td>Бомбо</td>\n",
       "      <td>邦博</td>\n",
       "      <td>NaN</td>\n",
       "      <td>بومبو</td>\n",
       "      <td>বোম্বো</td>\n",
       "      <td>Μπόμπο</td>\n",
       "      <td>बॉम्बो</td>\n",
       "      <td>Bombo</td>\n",
       "      <td>Bombo</td>\n",
       "      <td>Bombo</td>\n",
       "      <td>ボンボ</td>\n",
       "      <td>봄보</td>\n",
       "      <td>Bombo</td>\n",
       "      <td>Bombo</td>\n",
       "      <td>Bombo</td>\n",
       "      <td>Bombo</td>\n",
       "      <td>Bombo</td>\n",
       "      <td>1159113923</td>\n",
       "      <td>بمبو</td>\n",
       "      <td>בומבו</td>\n",
       "      <td>Бомбо</td>\n",
       "      <td>بومبو</td>\n",
       "      <td>邦博</td>\n",
       "      <td>NaN</td>\n",
       "      <td>NaN</td>\n",
       "      <td>NaN</td>\n",
       "      <td>NaN</td>\n",
       "      <td>NaN</td>\n",
       "      <td>NaN</td>\n",
       "      <td>NaN</td>\n",
       "      <td>NaN</td>\n",
       "      <td>NaN</td>\n",
       "      <td>NaN</td>\n",
       "      <td>NaN</td>\n",
       "      <td>NaN</td>\n",
       "      <td>NaN</td>\n",
       "      <td>NaN</td>\n",
       "      <td>NaN</td>\n",
       "      <td>NaN</td>\n",
       "      <td>NaN</td>\n",
       "      <td>NaN</td>\n",
       "      <td>NaN</td>\n",
       "      <td>NaN</td>\n",
       "      <td>NaN</td>\n",
       "      <td>NaN</td>\n",
       "      <td>NaN</td>\n",
       "      <td>NaN</td>\n",
       "      <td>NaN</td>\n",
       "      <td>NaN</td>\n",
       "      <td>NaN</td>\n",
       "      <td>NaN</td>\n",
       "      <td>NaN</td>\n",
       "      <td>NaN</td>\n",
       "      <td>NaN</td>\n",
       "      <td>NaN</td>\n",
       "      <td>NaN</td>\n",
       "      <td>NaN</td>\n",
       "      <td>POINT (32.53330 0.58330)</td>\n",
       "    </tr>\n",
       "    <tr>\n",
       "      <th>1</th>\n",
       "      <td>10</td>\n",
       "      <td>1</td>\n",
       "      <td>5</td>\n",
       "      <td>Admin-1 region capital</td>\n",
       "      <td>Fort Portal</td>\n",
       "      <td>NaN</td>\n",
       "      <td>NaN</td>\n",
       "      <td>Fort Portal</td>\n",
       "      <td>0</td>\n",
       "      <td>NaN</td>\n",
       "      <td>0</td>\n",
       "      <td>0</td>\n",
       "      <td>Uganda</td>\n",
       "      <td>UGA</td>\n",
       "      <td>Uganda</td>\n",
       "      <td>UGA</td>\n",
       "      <td>Kabarole</td>\n",
       "      <td>UG</td>\n",
       "      <td>NaN</td>\n",
       "      <td>0.671004</td>\n",
       "      <td>30.275002</td>\n",
       "      <td>42670</td>\n",
       "      <td>42670</td>\n",
       "      <td>0.0</td>\n",
       "      <td>7</td>\n",
       "      <td>7</td>\n",
       "      <td>NaN</td>\n",
       "      <td>NaN</td>\n",
       "      <td>0.0</td>\n",
       "      <td>0.0</td>\n",
       "      <td>0.0</td>\n",
       "      <td>0.0</td>\n",
       "      <td>0.0</td>\n",
       "      <td>0.0</td>\n",
       "      <td>0.0</td>\n",
       "      <td>0.0</td>\n",
       "      <td>0.0</td>\n",
       "      <td>0.0</td>\n",
       "      <td>0.0</td>\n",
       "      <td>0.0</td>\n",
       "      <td>0.0</td>\n",
       "      <td>0.0</td>\n",
       "      <td>0.0</td>\n",
       "      <td>0.0</td>\n",
       "      <td>0.0</td>\n",
       "      <td>0.0</td>\n",
       "      <td>0.0</td>\n",
       "      <td>0.0</td>\n",
       "      <td>0.0</td>\n",
       "      <td>0.0</td>\n",
       "      <td>0.0</td>\n",
       "      <td>0.0</td>\n",
       "      <td>Africa/Kampala</td>\n",
       "      <td>0.0</td>\n",
       "      <td>0.0</td>\n",
       "      <td>0.0</td>\n",
       "      <td>0.0</td>\n",
       "      <td>0.0</td>\n",
       "      <td>0.0</td>\n",
       "      <td>0.0</td>\n",
       "      <td>0.0</td>\n",
       "      <td>0.0</td>\n",
       "      <td>0.0</td>\n",
       "      <td>0.0</td>\n",
       "      <td>0.0</td>\n",
       "      <td>0.0</td>\n",
       "      <td>0.0</td>\n",
       "      <td>0.0</td>\n",
       "      <td>0.0</td>\n",
       "      <td>0.0</td>\n",
       "      <td>0.0</td>\n",
       "      <td>7.0</td>\n",
       "      <td>Q500107</td>\n",
       "      <td>421174009</td>\n",
       "      <td>0</td>\n",
       "      <td>Fort Portal</td>\n",
       "      <td>Fort Portal</td>\n",
       "      <td>Fort Portal</td>\n",
       "      <td>Fort Portal</td>\n",
       "      <td>Fort Portal</td>\n",
       "      <td>Форт-Портал</td>\n",
       "      <td>波特爾堡</td>\n",
       "      <td>NaN</td>\n",
       "      <td>فورت بورتال</td>\n",
       "      <td>ফোর্ট পোর্টাল</td>\n",
       "      <td>Φορτ Πορτάλ</td>\n",
       "      <td>फोर्ट पोर्टल</td>\n",
       "      <td>Fort Portal</td>\n",
       "      <td>Fort Portal</td>\n",
       "      <td>Fort Portal</td>\n",
       "      <td>フォート・ポータル</td>\n",
       "      <td>포트포털</td>\n",
       "      <td>Fort Portal</td>\n",
       "      <td>Fort Portal</td>\n",
       "      <td>Fort Portal</td>\n",
       "      <td>Fort Portal</td>\n",
       "      <td>Fort Portal</td>\n",
       "      <td>1159113959</td>\n",
       "      <td>فورت پورتال</td>\n",
       "      <td>פורט פורטל</td>\n",
       "      <td>Форт-Портал</td>\n",
       "      <td>فورٹ پورٹل</td>\n",
       "      <td>波特爾堡</td>\n",
       "      <td>233476.0</td>\n",
       "      <td>NaN</td>\n",
       "      <td>NaN</td>\n",
       "      <td>NaN</td>\n",
       "      <td>NaN</td>\n",
       "      <td>NaN</td>\n",
       "      <td>NaN</td>\n",
       "      <td>NaN</td>\n",
       "      <td>NaN</td>\n",
       "      <td>NaN</td>\n",
       "      <td>NaN</td>\n",
       "      <td>NaN</td>\n",
       "      <td>NaN</td>\n",
       "      <td>NaN</td>\n",
       "      <td>NaN</td>\n",
       "      <td>NaN</td>\n",
       "      <td>NaN</td>\n",
       "      <td>NaN</td>\n",
       "      <td>NaN</td>\n",
       "      <td>NaN</td>\n",
       "      <td>NaN</td>\n",
       "      <td>NaN</td>\n",
       "      <td>NaN</td>\n",
       "      <td>NaN</td>\n",
       "      <td>NaN</td>\n",
       "      <td>NaN</td>\n",
       "      <td>NaN</td>\n",
       "      <td>NaN</td>\n",
       "      <td>NaN</td>\n",
       "      <td>NaN</td>\n",
       "      <td>NaN</td>\n",
       "      <td>NaN</td>\n",
       "      <td>NaN</td>\n",
       "      <td>NaN</td>\n",
       "      <td>POINT (30.27500 0.67100)</td>\n",
       "    </tr>\n",
       "    <tr>\n",
       "      <th>2</th>\n",
       "      <td>10</td>\n",
       "      <td>1</td>\n",
       "      <td>3</td>\n",
       "      <td>Admin-1 region capital</td>\n",
       "      <td>Potenza</td>\n",
       "      <td>NaN</td>\n",
       "      <td>NaN</td>\n",
       "      <td>Potenza</td>\n",
       "      <td>0</td>\n",
       "      <td>NaN</td>\n",
       "      <td>0</td>\n",
       "      <td>0</td>\n",
       "      <td>Italy</td>\n",
       "      <td>ITA</td>\n",
       "      <td>Italy</td>\n",
       "      <td>ITA</td>\n",
       "      <td>Basilicata</td>\n",
       "      <td>IT</td>\n",
       "      <td>NaN</td>\n",
       "      <td>40.642002</td>\n",
       "      <td>15.798997</td>\n",
       "      <td>69060</td>\n",
       "      <td>69060</td>\n",
       "      <td>0.0</td>\n",
       "      <td>8</td>\n",
       "      <td>8</td>\n",
       "      <td>NaN</td>\n",
       "      <td>NaN</td>\n",
       "      <td>0.0</td>\n",
       "      <td>0.0</td>\n",
       "      <td>0.0</td>\n",
       "      <td>0.0</td>\n",
       "      <td>0.0</td>\n",
       "      <td>0.0</td>\n",
       "      <td>0.0</td>\n",
       "      <td>0.0</td>\n",
       "      <td>0.0</td>\n",
       "      <td>0.0</td>\n",
       "      <td>0.0</td>\n",
       "      <td>0.0</td>\n",
       "      <td>0.0</td>\n",
       "      <td>0.0</td>\n",
       "      <td>0.0</td>\n",
       "      <td>0.0</td>\n",
       "      <td>0.0</td>\n",
       "      <td>0.0</td>\n",
       "      <td>0.0</td>\n",
       "      <td>0.0</td>\n",
       "      <td>0.0</td>\n",
       "      <td>0.0</td>\n",
       "      <td>0.0</td>\n",
       "      <td>0.0</td>\n",
       "      <td>Europe/Rome</td>\n",
       "      <td>0.0</td>\n",
       "      <td>0.0</td>\n",
       "      <td>0.0</td>\n",
       "      <td>0.0</td>\n",
       "      <td>0.0</td>\n",
       "      <td>0.0</td>\n",
       "      <td>0.0</td>\n",
       "      <td>0.0</td>\n",
       "      <td>0.0</td>\n",
       "      <td>0.0</td>\n",
       "      <td>0.0</td>\n",
       "      <td>0.0</td>\n",
       "      <td>0.0</td>\n",
       "      <td>0.0</td>\n",
       "      <td>0.0</td>\n",
       "      <td>0.0</td>\n",
       "      <td>0.0</td>\n",
       "      <td>0.0</td>\n",
       "      <td>7.0</td>\n",
       "      <td>Q3543</td>\n",
       "      <td>101752567</td>\n",
       "      <td>0</td>\n",
       "      <td>Potenza</td>\n",
       "      <td>Potenza</td>\n",
       "      <td>Potenza</td>\n",
       "      <td>Potenza</td>\n",
       "      <td>Potenza</td>\n",
       "      <td>Потенца</td>\n",
       "      <td>波坦察</td>\n",
       "      <td>NaN</td>\n",
       "      <td>بوتنسا</td>\n",
       "      <td>পোটেঞ্জা</td>\n",
       "      <td>Ποτέντσα</td>\n",
       "      <td>पोटेंजा</td>\n",
       "      <td>Potenza</td>\n",
       "      <td>Potenza</td>\n",
       "      <td>Potenza</td>\n",
       "      <td>ポテンツァ</td>\n",
       "      <td>포텐차</td>\n",
       "      <td>Potenza</td>\n",
       "      <td>Potenza</td>\n",
       "      <td>Potenza</td>\n",
       "      <td>Potenza</td>\n",
       "      <td>Potenza</td>\n",
       "      <td>1159117259</td>\n",
       "      <td>پوتنزا</td>\n",
       "      <td>פוטנצה</td>\n",
       "      <td>Потенца</td>\n",
       "      <td>پوتینتسا</td>\n",
       "      <td>波坦察</td>\n",
       "      <td>3170027.0</td>\n",
       "      <td>NaN</td>\n",
       "      <td>NaN</td>\n",
       "      <td>NaN</td>\n",
       "      <td>NaN</td>\n",
       "      <td>NaN</td>\n",
       "      <td>NaN</td>\n",
       "      <td>NaN</td>\n",
       "      <td>NaN</td>\n",
       "      <td>NaN</td>\n",
       "      <td>NaN</td>\n",
       "      <td>NaN</td>\n",
       "      <td>NaN</td>\n",
       "      <td>NaN</td>\n",
       "      <td>NaN</td>\n",
       "      <td>NaN</td>\n",
       "      <td>NaN</td>\n",
       "      <td>NaN</td>\n",
       "      <td>NaN</td>\n",
       "      <td>NaN</td>\n",
       "      <td>NaN</td>\n",
       "      <td>NaN</td>\n",
       "      <td>NaN</td>\n",
       "      <td>NaN</td>\n",
       "      <td>NaN</td>\n",
       "      <td>NaN</td>\n",
       "      <td>NaN</td>\n",
       "      <td>NaN</td>\n",
       "      <td>NaN</td>\n",
       "      <td>NaN</td>\n",
       "      <td>NaN</td>\n",
       "      <td>NaN</td>\n",
       "      <td>NaN</td>\n",
       "      <td>NaN</td>\n",
       "      <td>POINT (15.79900 40.64200)</td>\n",
       "    </tr>\n",
       "  </tbody>\n",
       "</table>\n",
       "</div>"
      ],
      "text/plain": [
       "   SCALERANK  NATSCALE  LABELRANK              FEATURECLA         NAME  \\\n",
       "0         10         1          5  Admin-1 region capital        Bombo   \n",
       "1         10         1          5  Admin-1 region capital  Fort Portal   \n",
       "2         10         1          3  Admin-1 region capital      Potenza   \n",
       "\n",
       "  NAMEPAR NAMEALT    NAMEASCII  ADM0CAP CAPIN  WORLDCITY  MEGACITY SOV0NAME  \\\n",
       "0     NaN     NaN        Bombo        0   NaN          0         0   Uganda   \n",
       "1     NaN     NaN  Fort Portal        0   NaN          0         0   Uganda   \n",
       "2     NaN     NaN      Potenza        0   NaN          0         0    Italy   \n",
       "\n",
       "  SOV_A3 ADM0NAME ADM0_A3    ADM1NAME ISO_A2 NOTE   LATITUDE  LONGITUDE  \\\n",
       "0    UGA   Uganda     UGA  Bamunanika     UG  NaN   0.583299  32.533300   \n",
       "1    UGA   Uganda     UGA    Kabarole     UG  NaN   0.671004  30.275002   \n",
       "2    ITA    Italy     ITA  Basilicata     IT  NaN  40.642002  15.798997   \n",
       "\n",
       "   POP_MAX  POP_MIN  POP_OTHER  RANK_MAX  RANK_MIN MEGANAME LS_NAME  \\\n",
       "0    75000    21000        0.0         8         7      NaN     NaN   \n",
       "1    42670    42670        0.0         7         7      NaN     NaN   \n",
       "2    69060    69060        0.0         8         8      NaN     NaN   \n",
       "\n",
       "   MAX_POP10  MAX_POP20  MAX_POP50  MAX_POP300  MAX_POP310  MAX_NATSCA  \\\n",
       "0        0.0        0.0        0.0         0.0         0.0         0.0   \n",
       "1        0.0        0.0        0.0         0.0         0.0         0.0   \n",
       "2        0.0        0.0        0.0         0.0         0.0         0.0   \n",
       "\n",
       "   MIN_AREAKM  MAX_AREAKM  MIN_AREAMI  MAX_AREAMI  MIN_PERKM  MAX_PERKM  \\\n",
       "0         0.0         0.0         0.0         0.0        0.0        0.0   \n",
       "1         0.0         0.0         0.0         0.0        0.0        0.0   \n",
       "2         0.0         0.0         0.0         0.0        0.0        0.0   \n",
       "\n",
       "   MIN_PERMI  MAX_PERMI  MIN_BBXMIN  MAX_BBXMIN  MIN_BBXMAX  MAX_BBXMAX  \\\n",
       "0        0.0        0.0         0.0         0.0         0.0         0.0   \n",
       "1        0.0        0.0         0.0         0.0         0.0         0.0   \n",
       "2        0.0        0.0         0.0         0.0         0.0         0.0   \n",
       "\n",
       "   MIN_BBYMIN  MAX_BBYMIN  MIN_BBYMAX  MAX_BBYMAX  MEAN_BBXC  MEAN_BBYC  \\\n",
       "0         0.0         0.0         0.0         0.0        0.0        0.0   \n",
       "1         0.0         0.0         0.0         0.0        0.0        0.0   \n",
       "2         0.0         0.0         0.0         0.0        0.0        0.0   \n",
       "\n",
       "         TIMEZONE  UN_FID  POP1950  POP1955  POP1960  POP1965  POP1970  \\\n",
       "0             NaN     0.0      0.0      0.0      0.0      0.0      0.0   \n",
       "1  Africa/Kampala     0.0      0.0      0.0      0.0      0.0      0.0   \n",
       "2     Europe/Rome     0.0      0.0      0.0      0.0      0.0      0.0   \n",
       "\n",
       "   POP1975  POP1980  POP1985  POP1990  POP1995  POP2000  POP2005  POP2010  \\\n",
       "0      0.0      0.0      0.0      0.0      0.0      0.0      0.0      0.0   \n",
       "1      0.0      0.0      0.0      0.0      0.0      0.0      0.0      0.0   \n",
       "2      0.0      0.0      0.0      0.0      0.0      0.0      0.0      0.0   \n",
       "\n",
       "   POP2015  POP2020  POP2025  POP2050  MIN_ZOOM WIKIDATAID      WOF_ID  \\\n",
       "0      0.0      0.0      0.0      0.0       7.0   Q4940747  1141906025   \n",
       "1      0.0      0.0      0.0      0.0       7.0    Q500107   421174009   \n",
       "2      0.0      0.0      0.0      0.0       7.0      Q3543   101752567   \n",
       "\n",
       "   CAPALT      NAME_EN      NAME_DE      NAME_ES      NAME_FR      NAME_PT  \\\n",
       "0       0        Bombo        Bombo        Bombo        Bombo        Bombo   \n",
       "1       0  Fort Portal  Fort Portal  Fort Portal  Fort Portal  Fort Portal   \n",
       "2       0      Potenza      Potenza      Potenza      Potenza      Potenza   \n",
       "\n",
       "       NAME_RU NAME_ZH  LABEL      NAME_AR        NAME_BN      NAME_EL  \\\n",
       "0        Бомбо      邦博    NaN        بومبو         বোম্বো       Μπόμπο   \n",
       "1  Форт-Портал    波特爾堡    NaN  فورت بورتال  ফোর্ট পোর্টাল  Φορτ Πορτάλ   \n",
       "2      Потенца     波坦察    NaN       بوتنسا       পোটেঞ্জা     Ποτέντσα   \n",
       "\n",
       "        NAME_HI      NAME_HU      NAME_ID      NAME_IT    NAME_JA NAME_KO  \\\n",
       "0        बॉम्बो        Bombo        Bombo        Bombo        ボンボ      봄보   \n",
       "1  फोर्ट पोर्टल  Fort Portal  Fort Portal  Fort Portal  フォート・ポータル    포트포털   \n",
       "2       पोटेंजा      Potenza      Potenza      Potenza      ポテンツァ     포텐차   \n",
       "\n",
       "       NAME_NL      NAME_PL      NAME_SV      NAME_TR      NAME_VI  \\\n",
       "0        Bombo        Bombo        Bombo        Bombo        Bombo   \n",
       "1  Fort Portal  Fort Portal  Fort Portal  Fort Portal  Fort Portal   \n",
       "2      Potenza      Potenza      Potenza      Potenza      Potenza   \n",
       "\n",
       "        NE_ID      NAME_FA     NAME_HE      NAME_UK     NAME_UR NAME_ZHT  \\\n",
       "0  1159113923         بمبو       בומבו        Бомбо       بومبو       邦博   \n",
       "1  1159113959  فورت پورتال  פורט פורטל  Форт-Портал  فورٹ پورٹل     波特爾堡   \n",
       "2  1159117259       پوتنزا      פוטנצה      Потенца    پوتینتسا      波坦察   \n",
       "\n",
       "   GEONAMESID FCLASS_ISO FCLASS_US FCLASS_FR FCLASS_RU FCLASS_ES FCLASS_CN  \\\n",
       "0         NaN        NaN       NaN       NaN       NaN       NaN       NaN   \n",
       "1    233476.0        NaN       NaN       NaN       NaN       NaN       NaN   \n",
       "2   3170027.0        NaN       NaN       NaN       NaN       NaN       NaN   \n",
       "\n",
       "  FCLASS_TW FCLASS_IN FCLASS_NP FCLASS_PK FCLASS_DE FCLASS_GB FCLASS_BR  \\\n",
       "0       NaN       NaN       NaN       NaN       NaN       NaN       NaN   \n",
       "1       NaN       NaN       NaN       NaN       NaN       NaN       NaN   \n",
       "2       NaN       NaN       NaN       NaN       NaN       NaN       NaN   \n",
       "\n",
       "  FCLASS_IL FCLASS_PS FCLASS_SA FCLASS_EG FCLASS_MA FCLASS_PT FCLASS_AR  \\\n",
       "0       NaN       NaN       NaN       NaN       NaN       NaN       NaN   \n",
       "1       NaN       NaN       NaN       NaN       NaN       NaN       NaN   \n",
       "2       NaN       NaN       NaN       NaN       NaN       NaN       NaN   \n",
       "\n",
       "  FCLASS_JP FCLASS_KO FCLASS_VN FCLASS_TR FCLASS_ID FCLASS_PL FCLASS_GR  \\\n",
       "0       NaN       NaN       NaN       NaN       NaN       NaN       NaN   \n",
       "1       NaN       NaN       NaN       NaN       NaN       NaN       NaN   \n",
       "2       NaN       NaN       NaN       NaN       NaN       NaN       NaN   \n",
       "\n",
       "  FCLASS_IT FCLASS_NL FCLASS_SE FCLASS_BD FCLASS_UA FCLASS_TLC  \\\n",
       "0       NaN       NaN       NaN       NaN       NaN        NaN   \n",
       "1       NaN       NaN       NaN       NaN       NaN        NaN   \n",
       "2       NaN       NaN       NaN       NaN       NaN        NaN   \n",
       "\n",
       "                    geometry  \n",
       "0   POINT (32.53330 0.58330)  \n",
       "1   POINT (30.27500 0.67100)  \n",
       "2  POINT (15.79900 40.64200)  "
      ]
     },
     "execution_count": 29,
     "metadata": {},
     "output_type": "execute_result"
    }
   ],
   "source": [
    "# print the CRS\n",
    "print(places.crs)\n",
    "\n",
    "# look at first five columns\n",
    "places.head(3)"
   ]
  },
  {
   "cell_type": "code",
   "execution_count": 30,
   "id": "6554af60-f52c-4490-89c7-5c1acd6afbce",
   "metadata": {
    "tags": []
   },
   "outputs": [
    {
     "data": {
      "text/plain": [
       "<AxesSubplot:>"
      ]
     },
     "execution_count": 30,
     "metadata": {},
     "output_type": "execute_result"
    },
    {
     "data": {
      "image/png": "[encoded data removed]",
      "text/plain": [
       "<Figure size 640x480 with 1 Axes>"
      ]
     },
     "metadata": {},
     "output_type": "display_data"
    }
   ],
   "source": [
    "places.plot()"
   ]
  },
  {
   "cell_type": "markdown",
   "id": "aed71dfb-ee77-4ef4-a27b-d63c9ceb585c",
   "metadata": {},
   "source": [
    "This dataset has CRS EPSG:4326, this is the EPSG code for the WGS84 CRS. \n",
    "This is not surprise since this is a global dataset, and EPSG:4326/WGS84 is the most used CRS for such data.\n",
    "\n",
    "Let's see what happens when we try to plot this data on top of Alaska:"
   ]
  },
  {
   "cell_type": "code",
   "execution_count": 31,
   "id": "721cfcff-9c14-49b0-bc95-bc9cda72115f",
   "metadata": {
    "tags": []
   },
   "outputs": [
    {
     "name": "stderr",
     "output_type": "stream",
     "text": [
      "/opt/python/3.7.13/lib/python3.7/site-packages/geopandas/plotting.py:51: ShapelyDeprecationWarning: The 'type' attribute is deprecated, and will be removed in the future. You can use the 'geom_type' attribute instead.\n",
      "  if geom is not None and geom.type.startswith(prefix) and not geom.is_empty:\n"
     ]
    },
    {
     "data": {
      "image/png": "[encoded data removed]",
      "text/plain": [
       "<Figure size 640x480 with 1 Axes>"
      ]
     },
     "metadata": {},
     "output_type": "display_data"
    }
   ],
   "source": [
    "# Trouble\n",
    "fig, ax = plt.subplots()\n",
    "\n",
    "alaska.plot(ax=ax)\n",
    "places.plot(ax=ax, color='red')\n",
    "\n",
    "plt.show()"
   ]
  },
  {
   "cell_type": "markdown",
   "id": "e475cf67-8f95-447e-bf59-eee140ce9e7f",
   "metadata": {},
   "source": [
    "## Data in weird places? Check your CRSs\n",
    "This is a classic mistake in  analysis. \n",
    "To plot, analyze, or integrate different geospatial datasets they must **have the same CRS**. \n",
    "\n",
    "Here, `alaska` and `places` have different CRSs, leading to unexpected results when plotting them together:"
   ]
  },
  {
   "cell_type": "code",
   "execution_count": 32,
   "id": "ced6d738-e09c-4ec7-9a92-34d279f7576c",
   "metadata": {
    "tags": []
   },
   "outputs": [
    {
     "name": "stdout",
     "output_type": "stream",
     "text": [
      "epsg:3338\n",
      "epsg:4326\n"
     ]
    }
   ],
   "source": [
    "print(alaska.crs)\n",
    "print(places.crs)"
   ]
  },
  {
   "cell_type": "markdown",
   "id": "b8189062-00e2-4962-a276-5ef0ad001e10",
   "metadata": {},
   "source": [
    "### Reprojecting\n",
    "\n",
    "Reprojecting the `places` geo-datafarme into `alaska`'s CRS is simple using `to_crs()`:"
   ]
  },
  {
   "cell_type": "code",
   "execution_count": 33,
   "id": "7ce33154-ab78-4867-9f3b-4aaa8752567c",
   "metadata": {
    "tags": []
   },
   "outputs": [
    {
     "name": "stderr",
     "output_type": "stream",
     "text": [
      "/opt/python/3.7.13/lib/python3.7/site-packages/geopandas/plotting.py:51: ShapelyDeprecationWarning: The 'type' attribute is deprecated, and will be removed in the future. You can use the 'geom_type' attribute instead.\n",
      "  if geom is not None and geom.type.startswith(prefix) and not geom.is_empty:\n"
     ]
    },
    {
     "data": {
      "image/png": "[encoded data removed]",
      "text/plain": [
       "<Figure size 640x480 with 1 Axes>"
      ]
     },
     "metadata": {},
     "output_type": "display_data"
    }
   ],
   "source": [
    "fig, ax = plt.subplots()\n",
    "\n",
    "alaska.plot(ax=ax)\n",
    "places.plot(ax=ax, color='red', markersize=2 )\n",
    "\n",
    "plt.show()"
   ]
  },
  {
   "cell_type": "markdown",
   "id": "c2c0c43c-661c-4a2e-bfe5-d9a19207fb38",
   "metadata": {},
   "source": [
    "This is better: we can see there is the Alaska poygons and some points on top of it. \n",
    "Our next step is to select these points. \n",
    "\n",
    "### Clipping"
   ]
  },
  {
   "cell_type": "markdown",
   "id": "90c3d5de-f69d-4cc6-8892-b1ac158a99b0",
   "metadata": {},
   "source": [
    "**Clipping** means using a polygon (or polygons) to only select geospatial data within them. \n",
    "Clipping a `gpd.GeoDataFrame` is easy using the geopandas [`clip()` function](https://geopandas.org/en/stable/docs/reference/api/geopandas.clip.html). \n",
    "The general syntax is:\n",
    "```python\n",
    "updated_geodf = gpd.clip(geodf, mask)\n",
    "```\n",
    "where:\n",
    "\n",
    "- `updated_geodf` is the output of the method: the intersection of the geometries in `geodf` with `mask`,\n",
    "- `geodf` is the `gpd.GeoDataFrame` we want to clip, \n",
    "- `mask` is a `gpd.GeoDataFrame` with the polygon(s) we want to use for clipping. This `mask` must be in the same CRS as `geodf`!\n",
    "\n",
    "In our case:\n"
   ]
  },
  {
   "cell_type": "code",
   "execution_count": 34,
   "id": "bb4d1129-3de7-49ad-b6ac-65707b33eee2",
   "metadata": {
    "tags": []
   },
   "outputs": [
    {
     "name": "stdout",
     "output_type": "stream",
     "text": [
      "Number of places in AK: 0\n"
     ]
    },
    {
     "name": "stderr",
     "output_type": "stream",
     "text": [
      "/opt/python/3.7.13/lib/python3.7/site-packages/ipykernel_launcher.py:2: UserWarning: CRS mismatch between the CRS of left geometries and the CRS of right geometries.\n",
      "Use `to_crs()` to reproject one of the input geometries to match the CRS of the other.\n",
      "\n",
      "Left CRS: EPSG:4326\n",
      "Right CRS: EPSG:3338\n",
      "\n",
      "  \n"
     ]
    }
   ],
   "source": [
    "# clip places to Alaska\n",
    "ak_places = gpd.clip(places, alaska)\n",
    "print('Number of places in AK:', len(ak_places))"
   ]
  },
  {
   "cell_type": "code",
   "execution_count": null,
   "id": "9d279dba-7986-43e6-b881-d71b8d5d23e1",
   "metadata": {},
   "outputs": [],
   "source": [
    "# plot populated places in Alaska\n",
    "fig, ax = plt.subplots()\n",
    "\n",
    "alaska.plot(ax=ax)\n",
    "ak_places.plot(ax=ax, color='red')\n",
    "\n",
    "plt.show()"
   ]
  },
  {
   "cell_type": "markdown",
   "id": "f2648425-2bc6-4fa0-8832-728d155e4afb",
   "metadata": {},
   "source": [
    "## Prepare roads \n",
    "\n",
    "### Exploration\n",
    "Now we move on to our roads dataset. \n"
   ]
  },
  {
   "cell_type": "code",
   "execution_count": 35,
   "id": "d317a517-c846-4cab-8081-73a0a4dc69f0",
   "metadata": {
    "tags": []
   },
   "outputs": [
    {
     "name": "stdout",
     "output_type": "stream",
     "text": [
      "None\n"
     ]
    },
    {
     "data": {
      "text/html": [
       "<div>\n",
       "<style scoped>\n",
       "    .dataframe tbody tr th:only-of-type {\n",
       "        vertical-align: middle;\n",
       "    }\n",
       "\n",
       "    .dataframe tbody tr th {\n",
       "        vertical-align: top;\n",
       "    }\n",
       "\n",
       "    .dataframe thead th {\n",
       "        text-align: right;\n",
       "    }\n",
       "</style>\n",
       "<table border=\"1\" class=\"dataframe\">\n",
       "  <thead>\n",
       "    <tr style=\"text-align: right;\">\n",
       "      <th></th>\n",
       "      <th>scalerank</th>\n",
       "      <th>featurecla</th>\n",
       "      <th>type</th>\n",
       "      <th>sov_a3</th>\n",
       "      <th>note</th>\n",
       "      <th>edited</th>\n",
       "      <th>name</th>\n",
       "      <th>namealt</th>\n",
       "      <th>namealtt</th>\n",
       "      <th>routeraw</th>\n",
       "      <th>question</th>\n",
       "      <th>length_km</th>\n",
       "      <th>toll</th>\n",
       "      <th>ne_part</th>\n",
       "      <th>label</th>\n",
       "      <th>label2</th>\n",
       "      <th>local</th>\n",
       "      <th>localtype</th>\n",
       "      <th>localalt</th>\n",
       "      <th>labelrank</th>\n",
       "      <th>ignore</th>\n",
       "      <th>add</th>\n",
       "      <th>rwdb_rd_id</th>\n",
       "      <th>orig_fid</th>\n",
       "      <th>prefix</th>\n",
       "      <th>uident</th>\n",
       "      <th>continent</th>\n",
       "      <th>expressway</th>\n",
       "      <th>level</th>\n",
       "      <th>min_zoom</th>\n",
       "      <th>min_label</th>\n",
       "      <th>geometry</th>\n",
       "    </tr>\n",
       "  </thead>\n",
       "  <tbody>\n",
       "    <tr>\n",
       "      <th>0</th>\n",
       "      <td>8</td>\n",
       "      <td>Road</td>\n",
       "      <td>Secondary Highway</td>\n",
       "      <td>CAN</td>\n",
       "      <td>NaN</td>\n",
       "      <td>Version 1.5: Changed alignment, a few adds in ...</td>\n",
       "      <td>NaN</td>\n",
       "      <td>NaN</td>\n",
       "      <td>NaN</td>\n",
       "      <td>NaN</td>\n",
       "      <td>0</td>\n",
       "      <td>3</td>\n",
       "      <td>0</td>\n",
       "      <td>ne_1d4_original</td>\n",
       "      <td>NaN</td>\n",
       "      <td>NaN</td>\n",
       "      <td>NaN</td>\n",
       "      <td>NaN</td>\n",
       "      <td>NaN</td>\n",
       "      <td>0</td>\n",
       "      <td>0</td>\n",
       "      <td>0</td>\n",
       "      <td>0</td>\n",
       "      <td>0</td>\n",
       "      <td>NaN</td>\n",
       "      <td>314705</td>\n",
       "      <td>North America</td>\n",
       "      <td>0</td>\n",
       "      <td>NaN</td>\n",
       "      <td>7.1</td>\n",
       "      <td>9.6</td>\n",
       "      <td>LINESTRING (-133.32533 62.21571, -133.31664 62...</td>\n",
       "    </tr>\n",
       "    <tr>\n",
       "      <th>1</th>\n",
       "      <td>7</td>\n",
       "      <td>Road</td>\n",
       "      <td>Secondary Highway</td>\n",
       "      <td>USA</td>\n",
       "      <td>NaN</td>\n",
       "      <td>Version 1.5: Changed alignment, a few adds in ...</td>\n",
       "      <td>83</td>\n",
       "      <td>NaN</td>\n",
       "      <td>NaN</td>\n",
       "      <td>NaN</td>\n",
       "      <td>0</td>\n",
       "      <td>164</td>\n",
       "      <td>0</td>\n",
       "      <td>ne_1d4_original</td>\n",
       "      <td>NaN</td>\n",
       "      <td>NaN</td>\n",
       "      <td>NaN</td>\n",
       "      <td>NaN</td>\n",
       "      <td>NaN</td>\n",
       "      <td>0</td>\n",
       "      <td>0</td>\n",
       "      <td>0</td>\n",
       "      <td>0</td>\n",
       "      <td>0</td>\n",
       "      <td>NaN</td>\n",
       "      <td>108105</td>\n",
       "      <td>North America</td>\n",
       "      <td>0</td>\n",
       "      <td>Federal</td>\n",
       "      <td>7.0</td>\n",
       "      <td>8.6</td>\n",
       "      <td>LINESTRING (-100.50543 42.80753, -100.53495 42...</td>\n",
       "    </tr>\n",
       "    <tr>\n",
       "      <th>2</th>\n",
       "      <td>7</td>\n",
       "      <td>Road</td>\n",
       "      <td>Secondary Highway</td>\n",
       "      <td>USA</td>\n",
       "      <td>NaN</td>\n",
       "      <td>Version 1.5: Changed alignment, a few adds in ...</td>\n",
       "      <td>840</td>\n",
       "      <td>NaN</td>\n",
       "      <td>NaN</td>\n",
       "      <td>NaN</td>\n",
       "      <td>0</td>\n",
       "      <td>98</td>\n",
       "      <td>0</td>\n",
       "      <td>ne_1d4_original</td>\n",
       "      <td>NaN</td>\n",
       "      <td>NaN</td>\n",
       "      <td>NaN</td>\n",
       "      <td>NaN</td>\n",
       "      <td>NaN</td>\n",
       "      <td>0</td>\n",
       "      <td>0</td>\n",
       "      <td>0</td>\n",
       "      <td>0</td>\n",
       "      <td>0</td>\n",
       "      <td>NaN</td>\n",
       "      <td>0</td>\n",
       "      <td>North America</td>\n",
       "      <td>0</td>\n",
       "      <td>U/C</td>\n",
       "      <td>7.0</td>\n",
       "      <td>9.5</td>\n",
       "      <td>LINESTRING (-87.27432 36.02439, -87.22916 35.9...</td>\n",
       "    </tr>\n",
       "  </tbody>\n",
       "</table>\n",
       "</div>"
      ],
      "text/plain": [
       "   scalerank featurecla               type sov_a3 note  \\\n",
       "0          8       Road  Secondary Highway    CAN  NaN   \n",
       "1          7       Road  Secondary Highway    USA  NaN   \n",
       "2          7       Road  Secondary Highway    USA  NaN   \n",
       "\n",
       "                                              edited name namealt namealtt  \\\n",
       "0  Version 1.5: Changed alignment, a few adds in ...  NaN     NaN      NaN   \n",
       "1  Version 1.5: Changed alignment, a few adds in ...   83     NaN      NaN   \n",
       "2  Version 1.5: Changed alignment, a few adds in ...  840     NaN      NaN   \n",
       "\n",
       "  routeraw  question  length_km  toll          ne_part label label2 local  \\\n",
       "0      NaN         0          3     0  ne_1d4_original   NaN    NaN   NaN   \n",
       "1      NaN         0        164     0  ne_1d4_original   NaN    NaN   NaN   \n",
       "2      NaN         0         98     0  ne_1d4_original   NaN    NaN   NaN   \n",
       "\n",
       "  localtype localalt  labelrank  ignore  add  rwdb_rd_id  orig_fid prefix  \\\n",
       "0       NaN      NaN          0       0    0           0         0    NaN   \n",
       "1       NaN      NaN          0       0    0           0         0    NaN   \n",
       "2       NaN      NaN          0       0    0           0         0    NaN   \n",
       "\n",
       "   uident      continent  expressway    level  min_zoom  min_label  \\\n",
       "0  314705  North America           0      NaN       7.1        9.6   \n",
       "1  108105  North America           0  Federal       7.0        8.6   \n",
       "2       0  North America           0      U/C       7.0        9.5   \n",
       "\n",
       "                                            geometry  \n",
       "0  LINESTRING (-133.32533 62.21571, -133.31664 62...  \n",
       "1  LINESTRING (-100.50543 42.80753, -100.53495 42...  \n",
       "2  LINESTRING (-87.27432 36.02439, -87.22916 35.9...  "
      ]
     },
     "execution_count": 35,
     "metadata": {},
     "output_type": "execute_result"
    }
   ],
   "source": [
    "# print the CRS\n",
    "print(roads.crs)\n",
    "\n",
    "# look at first five columns\n",
    "roads.head(3)"
   ]
  },
  {
   "cell_type": "code",
   "execution_count": 36,
   "id": "86d3e03e-9947-4baf-9f03-9fe3b9927c2f",
   "metadata": {
    "tags": []
   },
   "outputs": [
    {
     "name": "stderr",
     "output_type": "stream",
     "text": [
      "/opt/python/3.7.13/lib/python3.7/site-packages/geopandas/plotting.py:51: ShapelyDeprecationWarning: The 'type' attribute is deprecated, and will be removed in the future. You can use the 'geom_type' attribute instead.\n",
      "  if geom is not None and geom.type.startswith(prefix) and not geom.is_empty:\n"
     ]
    },
    {
     "data": {
      "text/plain": [
       "<AxesSubplot:>"
      ]
     },
     "execution_count": 36,
     "metadata": {},
     "output_type": "execute_result"
    },
    {
     "data": {
      "image/png": "[encoded data removed]",
      "text/plain": [
       "<Figure size 640x480 with 1 Axes>"
      ]
     },
     "metadata": {},
     "output_type": "display_data"
    }
   ],
   "source": [
    "roads.plot()"
   ]
  },
  {
   "cell_type": "markdown",
   "id": "0008798f-c9c2-40f9-bdcf-c7d91881a3de",
   "metadata": {},
   "source": [
    "### One-liner clipping\n",
    "\n",
    "You may have already noticed that `roads` is not in the same CRS as `alaska`, so these geo-datasets shound't interact until they're in the same CRS. \n",
    "Before jumping right into reprojecting and clipping, we will subset the data to select only US roads:"
   ]
  },
  {
   "cell_type": "code",
   "execution_count": 37,
   "id": "9bcfcef1-8132-423b-bbcb-627c40cfacb5",
   "metadata": {
    "tags": []
   },
   "outputs": [
    {
     "name": "stderr",
     "output_type": "stream",
     "text": [
      "/opt/python/3.7.13/lib/python3.7/site-packages/geopandas/plotting.py:51: ShapelyDeprecationWarning: The 'type' attribute is deprecated, and will be removed in the future. You can use the 'geom_type' attribute instead.\n",
      "  if geom is not None and geom.type.startswith(prefix) and not geom.is_empty:\n"
     ]
    },
    {
     "data": {
      "text/plain": [
       "<AxesSubplot:>"
      ]
     },
     "execution_count": 37,
     "metadata": {},
     "output_type": "execute_result"
    },
    {
     "data": {
      "image/png": "[encoded data removed]",
      "text/plain": [
       "<Figure size 640x480 with 1 Axes>"
      ]
     },
     "metadata": {},
     "output_type": "display_data"
    }
   ],
   "source": [
    "# select US roads only\n",
    "usa_roads = roads[roads.sov_a3 == 'USA']\n",
    "usa_roads.plot()"
   ]
  },
  {
   "cell_type": "markdown",
   "id": "880bc4be-0251-4d84-9158-a6c6d265c908",
   "metadata": {},
   "source": [
    "## Reduce your tabular data before reducing via geometries\n",
    "Geospatial operations are usually costly. \n",
    "The more detailed our geometries the longer in takes to do geospatial computations. \n",
    "It's a good practice to try to reduce your data as much as possible before applying any geospatial transformation. \n",
    "\n",
    "We will now do a \"one-liner\" to clip `usa_roads` using the `alaska` polygon. Notice we are using the ouput of `usa_roads.to_crs(alaska.crs)` and thus not changing the `usa_roads` geo-dataframe or creating new variables:"
   ]
  },
  {
   "cell_type": "code",
   "execution_count": 38,
   "id": "762c3d15-50b3-432d-a517-48512dc7c6c0",
   "metadata": {
    "tags": []
   },
   "outputs": [
    {
     "ename": "ValueError",
     "evalue": "Cannot transform naive geometries.  Please set a crs on the object first.",
     "output_type": "error",
     "traceback": [
      "\u001b[0;31m---------------------------------------------------------------------------\u001b[0m",
      "\u001b[0;31mValueError\u001b[0m                                Traceback (most recent call last)",
      "\u001b[0;32m/tmp/ipykernel_779582/3370628162.py\u001b[0m in \u001b[0;36m<module>\u001b[0;34m\u001b[0m\n\u001b[1;32m      1\u001b[0m \u001b[0;31m# clip usa_roads to alaska geometry\u001b[0m\u001b[0;34m\u001b[0m\u001b[0;34m\u001b[0m\u001b[0;34m\u001b[0m\u001b[0m\n\u001b[0;32m----> 2\u001b[0;31m \u001b[0mak_roads\u001b[0m \u001b[0;34m=\u001b[0m \u001b[0mgpd\u001b[0m\u001b[0;34m.\u001b[0m\u001b[0mclip\u001b[0m\u001b[0;34m(\u001b[0m\u001b[0musa_roads\u001b[0m\u001b[0;34m.\u001b[0m\u001b[0mto_crs\u001b[0m\u001b[0;34m(\u001b[0m\u001b[0malaska\u001b[0m\u001b[0;34m.\u001b[0m\u001b[0mcrs\u001b[0m\u001b[0;34m)\u001b[0m\u001b[0;34m,\u001b[0m\u001b[0malaska\u001b[0m\u001b[0;34m)\u001b[0m\u001b[0;34m\u001b[0m\u001b[0;34m\u001b[0m\u001b[0m\n\u001b[0m\u001b[1;32m      3\u001b[0m \u001b[0;34m\u001b[0m\u001b[0m\n\u001b[1;32m      4\u001b[0m \u001b[0mak_roads\u001b[0m\u001b[0;34m.\u001b[0m\u001b[0mplot\u001b[0m\u001b[0;34m(\u001b[0m\u001b[0;34m)\u001b[0m\u001b[0;34m\u001b[0m\u001b[0;34m\u001b[0m\u001b[0m\n",
      "\u001b[0;32m/opt/python/3.7.13/lib/python3.7/site-packages/geopandas/geodataframe.py\u001b[0m in \u001b[0;36mto_crs\u001b[0;34m(self, crs, epsg, inplace)\u001b[0m\n\u001b[1;32m   1273\u001b[0m         \u001b[0;32melse\u001b[0m\u001b[0;34m:\u001b[0m\u001b[0;34m\u001b[0m\u001b[0;34m\u001b[0m\u001b[0m\n\u001b[1;32m   1274\u001b[0m             \u001b[0mdf\u001b[0m \u001b[0;34m=\u001b[0m \u001b[0mself\u001b[0m\u001b[0;34m.\u001b[0m\u001b[0mcopy\u001b[0m\u001b[0;34m(\u001b[0m\u001b[0;34m)\u001b[0m\u001b[0;34m\u001b[0m\u001b[0;34m\u001b[0m\u001b[0m\n\u001b[0;32m-> 1275\u001b[0;31m         \u001b[0mgeom\u001b[0m \u001b[0;34m=\u001b[0m \u001b[0mdf\u001b[0m\u001b[0;34m.\u001b[0m\u001b[0mgeometry\u001b[0m\u001b[0;34m.\u001b[0m\u001b[0mto_crs\u001b[0m\u001b[0;34m(\u001b[0m\u001b[0mcrs\u001b[0m\u001b[0;34m=\u001b[0m\u001b[0mcrs\u001b[0m\u001b[0;34m,\u001b[0m \u001b[0mepsg\u001b[0m\u001b[0;34m=\u001b[0m\u001b[0mepsg\u001b[0m\u001b[0;34m)\u001b[0m\u001b[0;34m\u001b[0m\u001b[0;34m\u001b[0m\u001b[0m\n\u001b[0m\u001b[1;32m   1276\u001b[0m         \u001b[0mdf\u001b[0m\u001b[0;34m.\u001b[0m\u001b[0mgeometry\u001b[0m \u001b[0;34m=\u001b[0m \u001b[0mgeom\u001b[0m\u001b[0;34m\u001b[0m\u001b[0;34m\u001b[0m\u001b[0m\n\u001b[1;32m   1277\u001b[0m         \u001b[0mdf\u001b[0m\u001b[0;34m.\u001b[0m\u001b[0mcrs\u001b[0m \u001b[0;34m=\u001b[0m \u001b[0mgeom\u001b[0m\u001b[0;34m.\u001b[0m\u001b[0mcrs\u001b[0m\u001b[0;34m\u001b[0m\u001b[0;34m\u001b[0m\u001b[0m\n",
      "\u001b[0;32m/opt/python/3.7.13/lib/python3.7/site-packages/geopandas/geoseries.py\u001b[0m in \u001b[0;36mto_crs\u001b[0;34m(self, crs, epsg)\u001b[0m\n\u001b[1;32m   1118\u001b[0m         \"\"\"\n\u001b[1;32m   1119\u001b[0m         return GeoSeries(\n\u001b[0;32m-> 1120\u001b[0;31m             \u001b[0mself\u001b[0m\u001b[0;34m.\u001b[0m\u001b[0mvalues\u001b[0m\u001b[0;34m.\u001b[0m\u001b[0mto_crs\u001b[0m\u001b[0;34m(\u001b[0m\u001b[0mcrs\u001b[0m\u001b[0;34m=\u001b[0m\u001b[0mcrs\u001b[0m\u001b[0;34m,\u001b[0m \u001b[0mepsg\u001b[0m\u001b[0;34m=\u001b[0m\u001b[0mepsg\u001b[0m\u001b[0;34m)\u001b[0m\u001b[0;34m,\u001b[0m \u001b[0mindex\u001b[0m\u001b[0;34m=\u001b[0m\u001b[0mself\u001b[0m\u001b[0;34m.\u001b[0m\u001b[0mindex\u001b[0m\u001b[0;34m,\u001b[0m \u001b[0mname\u001b[0m\u001b[0;34m=\u001b[0m\u001b[0mself\u001b[0m\u001b[0;34m.\u001b[0m\u001b[0mname\u001b[0m\u001b[0;34m\u001b[0m\u001b[0;34m\u001b[0m\u001b[0m\n\u001b[0m\u001b[1;32m   1121\u001b[0m         )\n\u001b[1;32m   1122\u001b[0m \u001b[0;34m\u001b[0m\u001b[0m\n",
      "\u001b[0;32m/opt/python/3.7.13/lib/python3.7/site-packages/geopandas/array.py\u001b[0m in \u001b[0;36mto_crs\u001b[0;34m(self, crs, epsg)\u001b[0m\n\u001b[1;32m    762\u001b[0m         \u001b[0;32mif\u001b[0m \u001b[0mself\u001b[0m\u001b[0;34m.\u001b[0m\u001b[0mcrs\u001b[0m \u001b[0;32mis\u001b[0m \u001b[0;32mNone\u001b[0m\u001b[0;34m:\u001b[0m\u001b[0;34m\u001b[0m\u001b[0;34m\u001b[0m\u001b[0m\n\u001b[1;32m    763\u001b[0m             raise ValueError(\n\u001b[0;32m--> 764\u001b[0;31m                 \u001b[0;34m\"Cannot transform naive geometries.  \"\u001b[0m\u001b[0;34m\u001b[0m\u001b[0;34m\u001b[0m\u001b[0m\n\u001b[0m\u001b[1;32m    765\u001b[0m                 \u001b[0;34m\"Please set a crs on the object first.\"\u001b[0m\u001b[0;34m\u001b[0m\u001b[0;34m\u001b[0m\u001b[0m\n\u001b[1;32m    766\u001b[0m             )\n",
      "\u001b[0;31mValueError\u001b[0m: Cannot transform naive geometries.  Please set a crs on the object first."
     ]
    }
   ],
   "source": [
    "# clip usa_roads to alaska geometry\n",
    "ak_roads = gpd.clip(usa_roads.to_crs(alaska.crs),alaska)\n",
    "\n",
    "ak_roads.plot()"
   ]
  },
  {
   "cell_type": "markdown",
   "id": "821d559b-9f86-4360-af78-a95c80039cf3",
   "metadata": {},
   "source": [
    "Notice how the lines break on the small islands? \n",
    "However in the `usa_roads` there are no broken lines. \n",
    "This should make us suspect we are leaving data out and clipping *exactly* to the polygons in `alaska` is not quite what we want. \n",
    "\n",
    "### Clipping with bounding box\n",
    "We will clip the `usa_roads` geo-dataframe with the bounding box of `alaska` instead of its polygons. \n",
    "To create a bounding box, we first use the [`box()` function we imported from `shapely.geometry`](https://shapely.readthedocs.io/en/stable/manual.html#shapely.geometry.box). \n",
    "The syntax for `box()` is:\n",
    "```python\n",
    "box(minx, miny, maxx, maxy)\n",
    "```\n",
    "the output is a X representing a box constructed like this:\n",
    "\n",
    "<!-- INSERT BOX DIAGRAM -->\n",
    "\n",
    "If we want to create a shapely polygon from the bounds of a geo-dataframe `gdf`, a more straightforward syntax is:\n",
    "```python \n",
    "box(*gdf.total_bounds)\n",
    "```\n",
    "\n",
    "<!-- ADD MORE DETAILS ABOUT THIS -->\n",
    "In our case:\n"
   ]
  },
  {
   "cell_type": "code",
   "execution_count": 39,
   "id": "95421e3e-e5d3-4b9a-b709-2213c39af24d",
   "metadata": {
    "tags": []
   },
   "outputs": [
    {
     "name": "stdout",
     "output_type": "stream",
     "text": [
      "<class 'shapely.geometry.polygon.Polygon'>\n"
     ]
    },
    {
     "data": {
      "image/svg+xml": [
       "<svg xmlns=\"http://www.w3.org/2000/svg\" xmlns:xlink=\"http://www.w3.org/1999/xlink\" width=\"300\" height=\"300\" viewBox=\"-2322482.2132490845 257792.62628860964 3962317.0039202105 2272768.290546223\" preserveAspectRatio=\"xMinYMin meet\"><g transform=\"matrix(1,0,0,-1,0,2788353.543123442)\"><path fill-rule=\"evenodd\" fill=\"#66cc99\" stroke=\"#555555\" stroke-width=\"26415.446692801404\" opacity=\"0.6\" d=\"M 1493082.3090444512,404545.1079152841 L 1493082.3090444512,2383808.435208158 L -2175729.73162241,2383808.435208158 L -2175729.73162241,404545.1079152841 L 1493082.3090444512,404545.1079152841 z\" /></g></svg>"
      ],
      "text/plain": [
       "<POLYGON ((1493082.309 404545.108, 1493082.309 2383808.435, -2175729.732 238...>"
      ]
     },
     "execution_count": 39,
     "metadata": {},
     "output_type": "execute_result"
    }
   ],
   "source": [
    "bbox = box(*alaska.total_bounds)\n",
    "print(type(bbox))\n",
    "bbox"
   ]
  },
  {
   "cell_type": "markdown",
   "id": "20452710-9235-44ae-838f-d32def9c772e",
   "metadata": {},
   "source": [
    "## `*` as unpacking operator\n",
    "In the last syntax we are using the asterisk `*` as an unpacking operator on the array `gdf.total_bounds`. \n",
    "Think about it as unpacking the elements of `gdf.total_bounds` and assigning them one-by-one to the paremeters `minx, miny, maxx, maxy` of `box()`.\n",
    "\n",
    "This is a good article explaining more about unpacking with `*` in Python:\n",
    "https://geekflare.com/python-unpacking-operators/"
   ]
  },
  {
   "cell_type": "code",
   "execution_count": 40,
   "id": "e6eb372e-261f-43da-9d89-b01a22ee8b11",
   "metadata": {
    "tags": []
   },
   "outputs": [
    {
     "name": "stdout",
     "output_type": "stream",
     "text": [
      "<class 'geopandas.geodataframe.GeoDataFrame'>\n"
     ]
    },
    {
     "data": {
      "text/html": [
       "<div>\n",
       "<style scoped>\n",
       "    .dataframe tbody tr th:only-of-type {\n",
       "        vertical-align: middle;\n",
       "    }\n",
       "\n",
       "    .dataframe tbody tr th {\n",
       "        vertical-align: top;\n",
       "    }\n",
       "\n",
       "    .dataframe thead th {\n",
       "        text-align: right;\n",
       "    }\n",
       "</style>\n",
       "<table border=\"1\" class=\"dataframe\">\n",
       "  <thead>\n",
       "    <tr style=\"text-align: right;\">\n",
       "      <th></th>\n",
       "      <th>geometry</th>\n",
       "    </tr>\n",
       "  </thead>\n",
       "  <tbody>\n",
       "    <tr>\n",
       "      <th>0</th>\n",
       "      <td>POLYGON ((1493082.309 404545.108, 1493082.309 ...</td>\n",
       "    </tr>\n",
       "  </tbody>\n",
       "</table>\n",
       "</div>"
      ],
      "text/plain": [
       "                                            geometry\n",
       "0  POLYGON ((1493082.309 404545.108, 1493082.309 ..."
      ]
     },
     "execution_count": 40,
     "metadata": {},
     "output_type": "execute_result"
    }
   ],
   "source": [
    "# create geo-dataframe from bounding box\n",
    "ak_bbox = gpd.GeoDataFrame(geometry = [bbox], # assign geometry column\n",
    "                           crs = alaska.crs) # assign CRS\n",
    "print(type(ak_bbox))\n",
    "ak_bbox"
   ]
  },
  {
   "cell_type": "code",
   "execution_count": null,
   "id": "c57831d7-2d03-4951-bb60-26f64c55b62b",
   "metadata": {},
   "outputs": [],
   "source": []
  }
 ],
 "metadata": {
  "kernelspec": {
   "display_name": "Python 3 (ipykernel)",
   "language": "python",
   "name": "python3"
  },
  "language_info": {
   "codemirror_mode": {
    "name": "ipython",
    "version": 3
   },
   "file_extension": ".py",
   "mimetype": "text/x-python",
   "name": "python",
   "nbconvert_exporter": "python",
   "pygments_lexer": "ipython3",
   "version": "3.7.13"
  }
 },
 "nbformat": 4,
 "nbformat_minor": 5
}
