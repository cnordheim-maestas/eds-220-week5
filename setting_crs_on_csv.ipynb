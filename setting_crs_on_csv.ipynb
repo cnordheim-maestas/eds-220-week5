{
 "cells": [
  {
   "cell_type": "markdown",
   "id": "611d905d-52fa-4c3d-9da8-9d2ada61be53",
   "metadata": {},
   "source": [
    "## About our data\n",
    "\n",
    "Dataset 1: \n",
    "from energy information administration: info about current operable electroninc power plants \n",
    "\n",
    "Dataset 2: \n",
    "TIGER shapefiles depicting US state boundaries"
   ]
  },
  {
   "cell_type": "code",
   "execution_count": 26,
   "id": "cdf33862-cf1c-46d5-88c9-56ed8edecab6",
   "metadata": {
    "tags": []
   },
   "outputs": [],
   "source": [
    "# import libraries\n",
    "import geopandas as gpd\n",
    "import pandas as pd\n",
    "import matplotlib.pyplot as plt\n",
    "\n",
    "pd.set_option('display.max.columns',None)"
   ]
  },
  {
   "cell_type": "code",
   "execution_count": 6,
   "id": "d89b478f-42b0-46d4-9d4a-12f626df7b84",
   "metadata": {
    "tags": []
   },
   "outputs": [],
   "source": [
    "# We want to make geopandas geodataframe from csv data\n",
    "\n",
    "# import csv\n",
    "power_plants = pd.read_csv('data/power_plants_epsg4269.csv')"
   ]
  },
  {
   "cell_type": "markdown",
   "id": "af43a9e7-0492-410b-8b29-ce9243fc26ee",
   "metadata": {},
   "source": [
    "From the documentation we know the crs is epsg4269. We can use this information to create a new geopandas geodata frame from the pandas dataframe.\n",
    "\n",
    "We use the `gpd.points_from_xy` function."
   ]
  },
  {
   "cell_type": "code",
   "execution_count": 8,
   "id": "8069136c-1232-42d4-bb66-f01fe225d874",
   "metadata": {
    "tags": []
   },
   "outputs": [],
   "source": [
    "power_plants = gpd.GeoDataFrame(power_plants, #data\n",
    "                                # specify geometry column \n",
    "                                geometry = gpd.points_from_xy(power_plants.longitude,\n",
    "                                                             power_plants.latitude),   \n",
    "                                # crs\n",
    "                                crs='EPSG:4269'\n",
    "                               )"
   ]
  },
  {
   "cell_type": "markdown",
   "id": "bd7d4e8a-ab9d-4f93-846c-7cf715796622",
   "metadata": {},
   "source": [
    "Let's check info about CRS"
   ]
  },
  {
   "cell_type": "code",
   "execution_count": 9,
   "id": "8c768398-bdab-4f16-8f37-f7c7f53cf412",
   "metadata": {
    "tags": []
   },
   "outputs": [
    {
     "name": "stdout",
     "output_type": "stream",
     "text": [
      "is geographic? True\n",
      "is projected? False\n",
      "datum:  North American Datum 1983\n",
      "ellipsoid:  GRS 1980\n"
     ]
    }
   ],
   "source": [
    "print('is geographic?', power_plants.crs.is_geographic)\n",
    "print('is projected?', power_plants.crs.is_projected)\n",
    "print('datum: ', power_plants.crs.datum)\n",
    "print('ellipsoid: ', power_plants.crs.ellipsoid)"
   ]
  },
  {
   "cell_type": "markdown",
   "id": "0cd23d8c-3612-4809-b030-5f492087ad06",
   "metadata": {},
   "source": [
    "What's a geographic CRS? Whole globe, then you need to choose a projection."
   ]
  },
  {
   "cell_type": "markdown",
   "id": "bb6ac8bb-83c6-4d00-b852-c7b0de6e748f",
   "metadata": {},
   "source": [
    "In class activity\n",
    "\n",
    "https://docs.google.com/document/d/1MSs7yqjr5APyBu5FNcPlPR5-NHirG2UseULlVhqSYsg/edit?usp=sharing"
   ]
  },
  {
   "cell_type": "markdown",
   "id": "5a8d6e1b-3d73-4e8e-98dc-a099445f0679",
   "metadata": {},
   "source": [
    "## Explore TIGER data\n",
    "1. Import data as states\n",
    "2. Simplify column names\n",
    "3. What are the datatypes of the columns?\n",
    "4. Update the datatypes of region, division and statefp to be int\n",
    "5. Check the states dataframe CRS\n",
    "6. Is it projected?\n",
    "7. Plot\n",
    "8. What is causing the extensive plotting?\n",
    "9. Explore the statefp column values Find the regions in the dataset that are not US states"
   ]
  },
  {
   "cell_type": "code",
   "execution_count": 14,
   "id": "ac2ef959-1785-44d6-b11b-27acca27c610",
   "metadata": {
    "tags": []
   },
   "outputs": [
    {
     "data": {
      "text/html": [
       "<div>\n",
       "<style scoped>\n",
       "    .dataframe tbody tr th:only-of-type {\n",
       "        vertical-align: middle;\n",
       "    }\n",
       "\n",
       "    .dataframe tbody tr th {\n",
       "        vertical-align: top;\n",
       "    }\n",
       "\n",
       "    .dataframe thead th {\n",
       "        text-align: right;\n",
       "    }\n",
       "</style>\n",
       "<table border=\"1\" class=\"dataframe\">\n",
       "  <thead>\n",
       "    <tr style=\"text-align: right;\">\n",
       "      <th></th>\n",
       "      <th>REGION</th>\n",
       "      <th>DIVISION</th>\n",
       "      <th>STATEFP</th>\n",
       "      <th>STATENS</th>\n",
       "      <th>GEOID</th>\n",
       "      <th>STUSPS</th>\n",
       "      <th>NAME</th>\n",
       "      <th>LSAD</th>\n",
       "      <th>MTFCC</th>\n",
       "      <th>FUNCSTAT</th>\n",
       "      <th>ALAND</th>\n",
       "      <th>AWATER</th>\n",
       "      <th>INTPTLAT</th>\n",
       "      <th>INTPTLON</th>\n",
       "      <th>geometry</th>\n",
       "    </tr>\n",
       "  </thead>\n",
       "  <tbody>\n",
       "    <tr>\n",
       "      <th>0</th>\n",
       "      <td>3</td>\n",
       "      <td>5</td>\n",
       "      <td>54</td>\n",
       "      <td>01779805</td>\n",
       "      <td>54</td>\n",
       "      <td>WV</td>\n",
       "      <td>West Virginia</td>\n",
       "      <td>00</td>\n",
       "      <td>G4000</td>\n",
       "      <td>A</td>\n",
       "      <td>62266456923</td>\n",
       "      <td>489045863</td>\n",
       "      <td>+38.6472854</td>\n",
       "      <td>-080.6183274</td>\n",
       "      <td>POLYGON ((-77.75438 39.33346, -77.75422 39.333...</td>\n",
       "    </tr>\n",
       "    <tr>\n",
       "      <th>1</th>\n",
       "      <td>3</td>\n",
       "      <td>5</td>\n",
       "      <td>12</td>\n",
       "      <td>00294478</td>\n",
       "      <td>12</td>\n",
       "      <td>FL</td>\n",
       "      <td>Florida</td>\n",
       "      <td>00</td>\n",
       "      <td>G4000</td>\n",
       "      <td>A</td>\n",
       "      <td>138962819934</td>\n",
       "      <td>45971472526</td>\n",
       "      <td>+28.3989775</td>\n",
       "      <td>-082.5143005</td>\n",
       "      <td>MULTIPOLYGON (((-83.10874 24.62949, -83.10711 ...</td>\n",
       "    </tr>\n",
       "    <tr>\n",
       "      <th>2</th>\n",
       "      <td>2</td>\n",
       "      <td>3</td>\n",
       "      <td>17</td>\n",
       "      <td>01779784</td>\n",
       "      <td>17</td>\n",
       "      <td>IL</td>\n",
       "      <td>Illinois</td>\n",
       "      <td>00</td>\n",
       "      <td>G4000</td>\n",
       "      <td>A</td>\n",
       "      <td>143778515726</td>\n",
       "      <td>6216539665</td>\n",
       "      <td>+40.1028754</td>\n",
       "      <td>-089.1526108</td>\n",
       "      <td>POLYGON ((-87.89243 38.28285, -87.89334 38.282...</td>\n",
       "    </tr>\n",
       "    <tr>\n",
       "      <th>3</th>\n",
       "      <td>2</td>\n",
       "      <td>4</td>\n",
       "      <td>27</td>\n",
       "      <td>00662849</td>\n",
       "      <td>27</td>\n",
       "      <td>MN</td>\n",
       "      <td>Minnesota</td>\n",
       "      <td>00</td>\n",
       "      <td>G4000</td>\n",
       "      <td>A</td>\n",
       "      <td>206244837557</td>\n",
       "      <td>18937184315</td>\n",
       "      <td>+46.3159573</td>\n",
       "      <td>-094.1996043</td>\n",
       "      <td>POLYGON ((-95.31989 48.99892, -95.31747 48.998...</td>\n",
       "    </tr>\n",
       "    <tr>\n",
       "      <th>4</th>\n",
       "      <td>3</td>\n",
       "      <td>5</td>\n",
       "      <td>24</td>\n",
       "      <td>01714934</td>\n",
       "      <td>24</td>\n",
       "      <td>MD</td>\n",
       "      <td>Maryland</td>\n",
       "      <td>00</td>\n",
       "      <td>G4000</td>\n",
       "      <td>A</td>\n",
       "      <td>25151771744</td>\n",
       "      <td>6979295311</td>\n",
       "      <td>+38.9466584</td>\n",
       "      <td>-076.6744939</td>\n",
       "      <td>POLYGON ((-75.75600 39.24607, -75.75579 39.243...</td>\n",
       "    </tr>\n",
       "  </tbody>\n",
       "</table>\n",
       "</div>"
      ],
      "text/plain": [
       "  REGION DIVISION STATEFP   STATENS GEOID STUSPS           NAME LSAD  MTFCC  \\\n",
       "0      3        5      54  01779805    54     WV  West Virginia   00  G4000   \n",
       "1      3        5      12  00294478    12     FL        Florida   00  G4000   \n",
       "2      2        3      17  01779784    17     IL       Illinois   00  G4000   \n",
       "3      2        4      27  00662849    27     MN      Minnesota   00  G4000   \n",
       "4      3        5      24  01714934    24     MD       Maryland   00  G4000   \n",
       "\n",
       "  FUNCSTAT         ALAND       AWATER     INTPTLAT      INTPTLON  \\\n",
       "0        A   62266456923    489045863  +38.6472854  -080.6183274   \n",
       "1        A  138962819934  45971472526  +28.3989775  -082.5143005   \n",
       "2        A  143778515726   6216539665  +40.1028754  -089.1526108   \n",
       "3        A  206244837557  18937184315  +46.3159573  -094.1996043   \n",
       "4        A   25151771744   6979295311  +38.9466584  -076.6744939   \n",
       "\n",
       "                                            geometry  \n",
       "0  POLYGON ((-77.75438 39.33346, -77.75422 39.333...  \n",
       "1  MULTIPOLYGON (((-83.10874 24.62949, -83.10711 ...  \n",
       "2  POLYGON ((-87.89243 38.28285, -87.89334 38.282...  \n",
       "3  POLYGON ((-95.31989 48.99892, -95.31747 48.998...  \n",
       "4  POLYGON ((-75.75600 39.24607, -75.75579 39.243...  "
      ]
     },
     "execution_count": 14,
     "metadata": {},
     "output_type": "execute_result"
    }
   ],
   "source": [
    "# 1: Import data as states\n",
    "states = gpd.read_file('data/tl_2022_us_state/tl_2022_us_state.shp')\n",
    "states.head()"
   ]
  },
  {
   "cell_type": "code",
   "execution_count": 17,
   "id": "41c689f9-0eb3-496d-a6a5-23967142bb9a",
   "metadata": {
    "tags": []
   },
   "outputs": [],
   "source": [
    "# 2: Simplify column names\n",
    "# clean column names: make all lower case\n",
    "states.columns = states.columns.str.lower()"
   ]
  },
  {
   "cell_type": "code",
   "execution_count": 18,
   "id": "3fd150e6-8f98-4780-ac4c-88f9c6b4ec1a",
   "metadata": {
    "tags": []
   },
   "outputs": [
    {
     "data": {
      "text/plain": [
       "region        object\n",
       "division      object\n",
       "statefp       object\n",
       "statens       object\n",
       "geoid         object\n",
       "stusps        object\n",
       "name          object\n",
       "lsad          object\n",
       "mtfcc         object\n",
       "funcstat      object\n",
       "aland          int64\n",
       "awater         int64\n",
       "intptlat      object\n",
       "intptlon      object\n",
       "geometry    geometry\n",
       "dtype: object"
      ]
     },
     "execution_count": 18,
     "metadata": {},
     "output_type": "execute_result"
    }
   ],
   "source": [
    "# 3: What are the datatypes of the columns?\n",
    "states.dtypes"
   ]
  },
  {
   "cell_type": "code",
   "execution_count": 21,
   "id": "191934e3-824b-4e6a-9aac-b8e99baf2f02",
   "metadata": {
    "tags": []
   },
   "outputs": [
    {
     "data": {
      "text/plain": [
       "region         int64\n",
       "division       int64\n",
       "statefp        int64\n",
       "statens       object\n",
       "geoid         object\n",
       "stusps        object\n",
       "name          object\n",
       "lsad          object\n",
       "mtfcc         object\n",
       "funcstat      object\n",
       "aland          int64\n",
       "awater         int64\n",
       "intptlat      object\n",
       "intptlon      object\n",
       "geometry    geometry\n",
       "dtype: object"
      ]
     },
     "execution_count": 21,
     "metadata": {},
     "output_type": "execute_result"
    }
   ],
   "source": [
    "# 4: Update the datatypes of region, division and statefp to be int\n",
    "states.region = states.region.astype('int64')\n",
    "states.division = states.division.astype('int64')\n",
    "states.statefp = states.statefp.astype('int64')\n",
    "\n",
    "states.dtypes"
   ]
  },
  {
   "cell_type": "code",
   "execution_count": 22,
   "id": "a4a90365-89a4-4c2d-9a64-f8980b01febd",
   "metadata": {
    "tags": []
   },
   "outputs": [
    {
     "name": "stdout",
     "output_type": "stream",
     "text": [
      "is geographic? True\n",
      "is projected? False\n",
      "datum:  North American Datum 1983\n",
      "ellipsoid:  GRS 1980\n"
     ]
    }
   ],
   "source": [
    "# 5: Check the states dataframe CRS\n",
    "\n",
    "print('is geographic?', states.crs.is_geographic)\n",
    "print('is projected?', states.crs.is_projected)\n",
    "print('datum: ', states.crs.datum)\n",
    "print('ellipsoid: ', states.crs.ellipsoid)"
   ]
  },
  {
   "cell_type": "code",
   "execution_count": 27,
   "id": "a85a00ca-cfe5-44fe-938b-5d0a21399b7b",
   "metadata": {
    "tags": []
   },
   "outputs": [
    {
     "name": "stderr",
     "output_type": "stream",
     "text": [
      "/opt/python/3.7.13/lib/python3.7/site-packages/geopandas/plotting.py:51: ShapelyDeprecationWarning: The 'type' attribute is deprecated, and will be removed in the future. You can use the 'geom_type' attribute instead.\n",
      "  if geom is not None and geom.type.startswith(prefix) and not geom.is_empty:\n"
     ]
    },
    {
     "data": {
      "image/png": "[encoded data removed]",
      "text/plain": [
       "<Figure size 640x480 with 1 Axes>"
      ]
     },
     "metadata": {},
     "output_type": "display_data"
    }
   ],
   "source": [
    "# 7: Plot\n",
    "# initialize empty figure\n",
    "fig, ax = plt.subplots()\n",
    "\n",
    "# add data to axis\n",
    "# notice customization happens as arguments in plot()\n",
    "states.plot(ax=ax,\n",
    "                 alpha=0.5,\n",
    "                 color='brown'\n",
    "                 )\n",
    "\n",
    "# update axis \n",
    "# customization separate from the data plotting\n",
    "ax.set_title('States') # need to set title this way, not in above .plot()\n",
    "ax.set_xlabel('Longitude')\n",
    "ax.set_ylabel('Latitude')\n",
    "\n",
    "# display figure\n",
    "plt.show()"
   ]
  },
  {
   "cell_type": "code",
   "execution_count": 29,
   "id": "9e1f21f0-e34c-4ddb-a0fd-5ad542310d94",
   "metadata": {
    "tags": []
   },
   "outputs": [
    {
     "name": "stderr",
     "output_type": "stream",
     "text": [
      "/opt/python/3.7.13/lib/python3.7/site-packages/geopandas/plotting.py:51: ShapelyDeprecationWarning: The 'type' attribute is deprecated, and will be removed in the future. You can use the 'geom_type' attribute instead.\n",
      "  if geom is not None and geom.type.startswith(prefix) and not geom.is_empty:\n"
     ]
    },
    {
     "data": {
      "text/plain": [
       "<AxesSubplot:>"
      ]
     },
     "execution_count": 29,
     "metadata": {},
     "output_type": "execute_result"
    },
    {
     "data": {
      "image/png": "[encoded data removed]",
      "text/plain": [
       "<Figure size 640x480 with 1 Axes>"
      ]
     },
     "metadata": {},
     "output_type": "display_data"
    }
   ],
   "source": [
    "states.plot()"
   ]
  },
  {
   "cell_type": "code",
   "execution_count": 33,
   "id": "10728963-57b2-4d09-b9ea-6ba06c8d3894",
   "metadata": {
    "tags": []
   },
   "outputs": [
    {
     "name": "stderr",
     "output_type": "stream",
     "text": [
      "/opt/python/3.7.13/lib/python3.7/site-packages/geopandas/plotting.py:51: ShapelyDeprecationWarning: The 'type' attribute is deprecated, and will be removed in the future. You can use the 'geom_type' attribute instead.\n",
      "  if geom is not None and geom.type.startswith(prefix) and not geom.is_empty:\n"
     ]
    },
    {
     "data": {
      "text/plain": [
       "<AxesSubplot:>"
      ]
     },
     "execution_count": 33,
     "metadata": {},
     "output_type": "execute_result"
    },
    {
     "data": {
      "image/png": "[encoded data removed]",
      "text/plain": [
       "<Figure size 640x480 with 1 Axes>"
      ]
     },
     "metadata": {},
     "output_type": "display_data"
    }
   ],
   "source": [
    "# 8: What is causing the extensive plotting?\n",
    "# Is is alaska??\n",
    "states[states.statefp==2].plot()"
   ]
  },
  {
   "cell_type": "code",
   "execution_count": 31,
   "id": "0c5c9725-05bb-41d1-b1ac-adc0f265c8fc",
   "metadata": {
    "tags": []
   },
   "outputs": [],
   "source": [
    "# 9: Explore the statefp column values Find the regions in the dataset that are not US states"
   ]
  },
  {
   "cell_type": "code",
   "execution_count": null,
   "id": "3d453c30-15de-4275-928b-9e2e2d3feaf9",
   "metadata": {},
   "outputs": [],
   "source": []
  }
 ],
 "metadata": {
  "kernelspec": {
   "display_name": "Python 3 (ipykernel)",
   "language": "python",
   "name": "python3"
  },
  "language_info": {
   "codemirror_mode": {
    "name": "ipython",
    "version": 3
   },
   "file_extension": ".py",
   "mimetype": "text/x-python",
   "name": "python",
   "nbconvert_exporter": "python",
   "pygments_lexer": "ipython3",
   "version": "3.7.13"
  }
 },
 "nbformat": 4,
 "nbformat_minor": 5
}
