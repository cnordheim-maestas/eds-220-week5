{
 "cells": [
  {
   "cell_type": "markdown",
   "id": "7d7812d2-317a-4914-9c98-641c351e792f",
   "metadata": {},
   "source": [
    "# Reprojecting and clipping"
   ]
  },
  {
   "cell_type": "markdown",
   "id": "fd8e88f2-0942-4b38-be71-1ba91cf9cf19",
   "metadata": {
    "tags": []
   },
   "source": [
    "## We will learn:\n",
    "how to change the crs of a geo dataframe\n",
    "how to clip different geometries using polygons\n",
    "\n",
    "## Data \n",
    "fill in later"
   ]
  },
  {
   "cell_type": "code",
   "execution_count": 3,
   "id": "63ea4541-903b-4f64-a4a5-3f2fcb365aad",
   "metadata": {
    "tags": []
   },
   "outputs": [],
   "source": [
    "# import packages\n",
    "import geopandas as gpd\n",
    "import pandas as pd\n",
    "import matplotlib.pyplot as plt\n",
    "\n",
    "# import a single function\n",
    "from shapely.geometry import box"
   ]
  },
  {
   "cell_type": "code",
   "execution_count": 4,
   "id": "9bff0af4-3ae6-43f4-a671-5d4352167a08",
   "metadata": {
    "tags": []
   },
   "outputs": [],
   "source": [
    "pd.set_option(\"display.max.columns\", None)"
   ]
  },
  {
   "cell_type": "code",
   "execution_count": 5,
   "id": "1165a21b-4c37-4c65-b702-adf896faab0c",
   "metadata": {
    "tags": []
   },
   "outputs": [],
   "source": [
    "## Import data"
   ]
  },
  {
   "cell_type": "code",
   "execution_count": 17,
   "id": "3cde2117-5427-4007-aa1c-8d8f48afdaa1",
   "metadata": {
    "tags": []
   },
   "outputs": [],
   "source": [
    "states = gpd.read_file('data/tl_2022_us_state/tl_2022_us_state.shp')\n",
    "\n",
    "places = gpd.read_file('data/ne_50m_populated_places.shp')\n",
    "\n",
    "roads = gpd.read_file('data/ne_10m_roads.shp')"
   ]
  },
  {
   "cell_type": "code",
   "execution_count": 18,
   "id": "3230388e-f519-4102-a566-cf50430085cb",
   "metadata": {
    "tags": []
   },
   "outputs": [
    {
     "ename": "TypeError",
     "evalue": "'method' object is not iterable",
     "output_type": "error",
     "traceback": [
      "\u001b[0;31m---------------------------------------------------------------------------\u001b[0m",
      "\u001b[0;31mTypeError\u001b[0m                                 Traceback (most recent call last)",
      "\u001b[0;32m/tmp/ipykernel_47880/4034488103.py\u001b[0m in \u001b[0;36m<module>\u001b[0;34m\u001b[0m\n\u001b[0;32m----> 1\u001b[0;31m \u001b[0mstates\u001b[0m\u001b[0;34m.\u001b[0m\u001b[0mcolumns\u001b[0m \u001b[0;34m=\u001b[0m \u001b[0mstates\u001b[0m\u001b[0;34m.\u001b[0m\u001b[0mcolumns\u001b[0m\u001b[0;34m.\u001b[0m\u001b[0mstr\u001b[0m\u001b[0;34m.\u001b[0m\u001b[0mlower\u001b[0m\u001b[0;34m\u001b[0m\u001b[0;34m\u001b[0m\u001b[0m\n\u001b[0m",
      "\u001b[0;32m/opt/python/3.7.13/lib/python3.7/site-packages/geopandas/geodataframe.py\u001b[0m in \u001b[0;36m__setattr__\u001b[0;34m(self, attr, val)\u001b[0m\n\u001b[1;32m    197\u001b[0m             \u001b[0mobject\u001b[0m\u001b[0;34m.\u001b[0m\u001b[0m__setattr__\u001b[0m\u001b[0;34m(\u001b[0m\u001b[0mself\u001b[0m\u001b[0;34m,\u001b[0m \u001b[0mattr\u001b[0m\u001b[0;34m,\u001b[0m \u001b[0mval\u001b[0m\u001b[0;34m)\u001b[0m\u001b[0;34m\u001b[0m\u001b[0;34m\u001b[0m\u001b[0m\n\u001b[1;32m    198\u001b[0m         \u001b[0;32melse\u001b[0m\u001b[0;34m:\u001b[0m\u001b[0;34m\u001b[0m\u001b[0;34m\u001b[0m\u001b[0m\n\u001b[0;32m--> 199\u001b[0;31m             \u001b[0msuper\u001b[0m\u001b[0;34m(\u001b[0m\u001b[0;34m)\u001b[0m\u001b[0;34m.\u001b[0m\u001b[0m__setattr__\u001b[0m\u001b[0;34m(\u001b[0m\u001b[0mattr\u001b[0m\u001b[0;34m,\u001b[0m \u001b[0mval\u001b[0m\u001b[0;34m)\u001b[0m\u001b[0;34m\u001b[0m\u001b[0;34m\u001b[0m\u001b[0m\n\u001b[0m\u001b[1;32m    200\u001b[0m \u001b[0;34m\u001b[0m\u001b[0m\n\u001b[1;32m    201\u001b[0m     \u001b[0;32mdef\u001b[0m \u001b[0m_get_geometry\u001b[0m\u001b[0;34m(\u001b[0m\u001b[0mself\u001b[0m\u001b[0;34m)\u001b[0m\u001b[0;34m:\u001b[0m\u001b[0;34m\u001b[0m\u001b[0;34m\u001b[0m\u001b[0m\n",
      "\u001b[0;32m/opt/python/3.7.13/lib/python3.7/site-packages/pandas/core/generic.py\u001b[0m in \u001b[0;36m__setattr__\u001b[0;34m(self, name, value)\u001b[0m\n\u001b[1;32m   5498\u001b[0m         \u001b[0;32mtry\u001b[0m\u001b[0;34m:\u001b[0m\u001b[0;34m\u001b[0m\u001b[0;34m\u001b[0m\u001b[0m\n\u001b[1;32m   5499\u001b[0m             \u001b[0mobject\u001b[0m\u001b[0;34m.\u001b[0m\u001b[0m__getattribute__\u001b[0m\u001b[0;34m(\u001b[0m\u001b[0mself\u001b[0m\u001b[0;34m,\u001b[0m \u001b[0mname\u001b[0m\u001b[0;34m)\u001b[0m\u001b[0;34m\u001b[0m\u001b[0;34m\u001b[0m\u001b[0m\n\u001b[0;32m-> 5500\u001b[0;31m             \u001b[0;32mreturn\u001b[0m \u001b[0mobject\u001b[0m\u001b[0;34m.\u001b[0m\u001b[0m__setattr__\u001b[0m\u001b[0;34m(\u001b[0m\u001b[0mself\u001b[0m\u001b[0;34m,\u001b[0m \u001b[0mname\u001b[0m\u001b[0;34m,\u001b[0m \u001b[0mvalue\u001b[0m\u001b[0;34m)\u001b[0m\u001b[0;34m\u001b[0m\u001b[0;34m\u001b[0m\u001b[0m\n\u001b[0m\u001b[1;32m   5501\u001b[0m         \u001b[0;32mexcept\u001b[0m \u001b[0mAttributeError\u001b[0m\u001b[0;34m:\u001b[0m\u001b[0;34m\u001b[0m\u001b[0;34m\u001b[0m\u001b[0m\n\u001b[1;32m   5502\u001b[0m             \u001b[0;32mpass\u001b[0m\u001b[0;34m\u001b[0m\u001b[0;34m\u001b[0m\u001b[0m\n",
      "\u001b[0;32m/opt/python/3.7.13/lib/python3.7/site-packages/pandas/_libs/properties.pyx\u001b[0m in \u001b[0;36mpandas._libs.properties.AxisProperty.__set__\u001b[0;34m()\u001b[0m\n",
      "\u001b[0;32m/opt/python/3.7.13/lib/python3.7/site-packages/pandas/core/generic.py\u001b[0m in \u001b[0;36m_set_axis\u001b[0;34m(self, axis, labels)\u001b[0m\n\u001b[1;32m    763\u001b[0m \u001b[0;34m\u001b[0m\u001b[0m\n\u001b[1;32m    764\u001b[0m     \u001b[0;32mdef\u001b[0m \u001b[0m_set_axis\u001b[0m\u001b[0;34m(\u001b[0m\u001b[0mself\u001b[0m\u001b[0;34m,\u001b[0m \u001b[0maxis\u001b[0m\u001b[0;34m:\u001b[0m \u001b[0mint\u001b[0m\u001b[0;34m,\u001b[0m \u001b[0mlabels\u001b[0m\u001b[0;34m:\u001b[0m \u001b[0mIndex\u001b[0m\u001b[0;34m)\u001b[0m \u001b[0;34m->\u001b[0m \u001b[0;32mNone\u001b[0m\u001b[0;34m:\u001b[0m\u001b[0;34m\u001b[0m\u001b[0;34m\u001b[0m\u001b[0m\n\u001b[0;32m--> 765\u001b[0;31m         \u001b[0mlabels\u001b[0m \u001b[0;34m=\u001b[0m \u001b[0mensure_index\u001b[0m\u001b[0;34m(\u001b[0m\u001b[0mlabels\u001b[0m\u001b[0;34m)\u001b[0m\u001b[0;34m\u001b[0m\u001b[0;34m\u001b[0m\u001b[0m\n\u001b[0m\u001b[1;32m    766\u001b[0m         \u001b[0mself\u001b[0m\u001b[0;34m.\u001b[0m\u001b[0m_mgr\u001b[0m\u001b[0;34m.\u001b[0m\u001b[0mset_axis\u001b[0m\u001b[0;34m(\u001b[0m\u001b[0maxis\u001b[0m\u001b[0;34m,\u001b[0m \u001b[0mlabels\u001b[0m\u001b[0;34m)\u001b[0m\u001b[0;34m\u001b[0m\u001b[0;34m\u001b[0m\u001b[0m\n\u001b[1;32m    767\u001b[0m         \u001b[0mself\u001b[0m\u001b[0;34m.\u001b[0m\u001b[0m_clear_item_cache\u001b[0m\u001b[0;34m(\u001b[0m\u001b[0;34m)\u001b[0m\u001b[0;34m\u001b[0m\u001b[0;34m\u001b[0m\u001b[0m\n",
      "\u001b[0;32m/opt/python/3.7.13/lib/python3.7/site-packages/pandas/core/indexes/base.py\u001b[0m in \u001b[0;36mensure_index\u001b[0;34m(index_like, copy)\u001b[0m\n\u001b[1;32m   6334\u001b[0m     \u001b[0;32melse\u001b[0m\u001b[0;34m:\u001b[0m\u001b[0;34m\u001b[0m\u001b[0;34m\u001b[0m\u001b[0m\n\u001b[1;32m   6335\u001b[0m \u001b[0;34m\u001b[0m\u001b[0m\n\u001b[0;32m-> 6336\u001b[0;31m         \u001b[0;32mreturn\u001b[0m \u001b[0mIndex\u001b[0m\u001b[0;34m(\u001b[0m\u001b[0mindex_like\u001b[0m\u001b[0;34m,\u001b[0m \u001b[0mcopy\u001b[0m\u001b[0;34m=\u001b[0m\u001b[0mcopy\u001b[0m\u001b[0;34m)\u001b[0m\u001b[0;34m\u001b[0m\u001b[0;34m\u001b[0m\u001b[0m\n\u001b[0m\u001b[1;32m   6337\u001b[0m \u001b[0;34m\u001b[0m\u001b[0m\n\u001b[1;32m   6338\u001b[0m \u001b[0;34m\u001b[0m\u001b[0m\n",
      "\u001b[0;32m/opt/python/3.7.13/lib/python3.7/site-packages/pandas/core/indexes/base.py\u001b[0m in \u001b[0;36m__new__\u001b[0;34m(cls, data, dtype, copy, name, tupleize_cols, **kwargs)\u001b[0m\n\u001b[1;32m    492\u001b[0m             \u001b[0;31m# other iterable of some kind\u001b[0m\u001b[0;34m\u001b[0m\u001b[0;34m\u001b[0m\u001b[0;34m\u001b[0m\u001b[0m\n\u001b[1;32m    493\u001b[0m \u001b[0;34m\u001b[0m\u001b[0m\n\u001b[0;32m--> 494\u001b[0;31m             \u001b[0msubarr\u001b[0m \u001b[0;34m=\u001b[0m \u001b[0mcom\u001b[0m\u001b[0;34m.\u001b[0m\u001b[0masarray_tuplesafe\u001b[0m\u001b[0;34m(\u001b[0m\u001b[0mdata\u001b[0m\u001b[0;34m,\u001b[0m \u001b[0mdtype\u001b[0m\u001b[0;34m=\u001b[0m\u001b[0mnp\u001b[0m\u001b[0;34m.\u001b[0m\u001b[0mdtype\u001b[0m\u001b[0;34m(\u001b[0m\u001b[0;34m\"object\"\u001b[0m\u001b[0;34m)\u001b[0m\u001b[0;34m)\u001b[0m\u001b[0;34m\u001b[0m\u001b[0;34m\u001b[0m\u001b[0m\n\u001b[0m\u001b[1;32m    495\u001b[0m             \u001b[0;32mreturn\u001b[0m \u001b[0mIndex\u001b[0m\u001b[0;34m(\u001b[0m\u001b[0msubarr\u001b[0m\u001b[0;34m,\u001b[0m \u001b[0mdtype\u001b[0m\u001b[0;34m=\u001b[0m\u001b[0mdtype\u001b[0m\u001b[0;34m,\u001b[0m \u001b[0mcopy\u001b[0m\u001b[0;34m=\u001b[0m\u001b[0mcopy\u001b[0m\u001b[0;34m,\u001b[0m \u001b[0mname\u001b[0m\u001b[0;34m=\u001b[0m\u001b[0mname\u001b[0m\u001b[0;34m,\u001b[0m \u001b[0;34m**\u001b[0m\u001b[0mkwargs\u001b[0m\u001b[0;34m)\u001b[0m\u001b[0;34m\u001b[0m\u001b[0;34m\u001b[0m\u001b[0m\n\u001b[1;32m    496\u001b[0m \u001b[0;34m\u001b[0m\u001b[0m\n",
      "\u001b[0;32m/opt/python/3.7.13/lib/python3.7/site-packages/pandas/core/common.py\u001b[0m in \u001b[0;36masarray_tuplesafe\u001b[0;34m(values, dtype)\u001b[0m\n\u001b[1;32m    225\u001b[0m \u001b[0;34m\u001b[0m\u001b[0m\n\u001b[1;32m    226\u001b[0m     \u001b[0;32mif\u001b[0m \u001b[0;32mnot\u001b[0m \u001b[0;34m(\u001b[0m\u001b[0misinstance\u001b[0m\u001b[0;34m(\u001b[0m\u001b[0mvalues\u001b[0m\u001b[0;34m,\u001b[0m \u001b[0;34m(\u001b[0m\u001b[0mlist\u001b[0m\u001b[0;34m,\u001b[0m \u001b[0mtuple\u001b[0m\u001b[0;34m)\u001b[0m\u001b[0;34m)\u001b[0m \u001b[0;32mor\u001b[0m \u001b[0mhasattr\u001b[0m\u001b[0;34m(\u001b[0m\u001b[0mvalues\u001b[0m\u001b[0;34m,\u001b[0m \u001b[0;34m\"__array__\"\u001b[0m\u001b[0;34m)\u001b[0m\u001b[0;34m)\u001b[0m\u001b[0;34m:\u001b[0m\u001b[0;34m\u001b[0m\u001b[0;34m\u001b[0m\u001b[0m\n\u001b[0;32m--> 227\u001b[0;31m         \u001b[0mvalues\u001b[0m \u001b[0;34m=\u001b[0m \u001b[0mlist\u001b[0m\u001b[0;34m(\u001b[0m\u001b[0mvalues\u001b[0m\u001b[0;34m)\u001b[0m\u001b[0;34m\u001b[0m\u001b[0;34m\u001b[0m\u001b[0m\n\u001b[0m\u001b[1;32m    228\u001b[0m     \u001b[0;32melif\u001b[0m \u001b[0misinstance\u001b[0m\u001b[0;34m(\u001b[0m\u001b[0mvalues\u001b[0m\u001b[0;34m,\u001b[0m \u001b[0mABCIndex\u001b[0m\u001b[0;34m)\u001b[0m\u001b[0;34m:\u001b[0m\u001b[0;34m\u001b[0m\u001b[0;34m\u001b[0m\u001b[0m\n\u001b[1;32m    229\u001b[0m         \u001b[0;31m# error: Incompatible return value type (got \"Union[ExtensionArray, ndarray]\",\u001b[0m\u001b[0;34m\u001b[0m\u001b[0;34m\u001b[0m\u001b[0;34m\u001b[0m\u001b[0m\n",
      "\u001b[0;31mTypeError\u001b[0m: 'method' object is not iterable"
     ]
    }
   ],
   "source": [
    "#states.columns = states.columns.str.lower"
   ]
  },
  {
   "cell_type": "code",
   "execution_count": 15,
   "id": "759dd318-febb-43c8-bfde-9f03a06ebaa7",
   "metadata": {
    "tags": []
   },
   "outputs": [
    {
     "name": "stderr",
     "output_type": "stream",
     "text": [
      "/opt/python/3.7.13/lib/python3.7/site-packages/geopandas/plotting.py:51: ShapelyDeprecationWarning: The 'type' attribute is deprecated, and will be removed in the future. You can use the 'geom_type' attribute instead.\n",
      "  if geom is not None and geom.type.startswith(prefix) and not geom.is_empty:\n"
     ]
    },
    {
     "data": {
      "text/plain": [
       "<AxesSubplot:>"
      ]
     },
     "execution_count": 15,
     "metadata": {},
     "output_type": "execute_result"
    },
    {
     "data": {
      "image/png": "[encoded data removed]",
      "text/plain": [
       "<Figure size 640x480 with 1 Axes>"
      ]
     },
     "metadata": {},
     "output_type": "display_data"
    }
   ],
   "source": [
    "# prep alaska polygon\n",
    "\n",
    "states.crs\n",
    "states.head(3)\n",
    "states.plot()"
   ]
  },
  {
   "cell_type": "code",
   "execution_count": 21,
   "id": "ef293882-edf0-4e7d-a465-7c63f638dfaf",
   "metadata": {
    "tags": []
   },
   "outputs": [],
   "source": [
    "#just alaska\n",
    "\n",
    "alaska = states[states.NAME == 'Alaska']"
   ]
  },
  {
   "cell_type": "markdown",
   "id": "1216520b-6168-44d8-88d6-8ee0622160d4",
   "metadata": {},
   "source": [
    "## Reprojecting\n",
    "\n",
    "issue: islands elongating the map\n",
    "fix: reproject the alaska geodataframe\n",
    "\n",
    "Changing the crs of your data\n",
    "\n",
    "we will reproject to EPSG:3338, better for working with Alaska\n",
    "\n",
    "use the to crs method\n",
    "\n",
    "syntax:\n",
    "\n",
    "updated_geodf = geodf.to_crs(new_crs)\n",
    "\n",
    "new_crs: object of type crs or a string representing a crs (ex epsg:3338)"
   ]
  },
  {
   "cell_type": "code",
   "execution_count": 22,
   "id": "3c80fc2b-be85-4022-ad4b-b670fe29168b",
   "metadata": {
    "tags": []
   },
   "outputs": [],
   "source": [
    "# change to projected crs optomized for Alaska\n",
    "alaska = alaska.to_crs('epsg:3338')"
   ]
  },
  {
   "cell_type": "code",
   "execution_count": 25,
   "id": "c42835d6-c97d-4d92-a222-b780cf68d2ec",
   "metadata": {
    "tags": []
   },
   "outputs": [
    {
     "name": "stderr",
     "output_type": "stream",
     "text": [
      "/opt/python/3.7.13/lib/python3.7/site-packages/geopandas/plotting.py:51: ShapelyDeprecationWarning: The 'type' attribute is deprecated, and will be removed in the future. You can use the 'geom_type' attribute instead.\n",
      "  if geom is not None and geom.type.startswith(prefix) and not geom.is_empty:\n"
     ]
    },
    {
     "data": {
      "text/plain": [
       "<AxesSubplot:>"
      ]
     },
     "execution_count": 25,
     "metadata": {},
     "output_type": "execute_result"
    },
    {
     "data": {
      "image/png": "[encoded data removed]",
      "text/plain": [
       "<Figure size 640x480 with 1 Axes>"
      ]
     },
     "metadata": {},
     "output_type": "display_data"
    }
   ],
   "source": [
    "alaska.plot()"
   ]
  },
  {
   "cell_type": "code",
   "execution_count": 27,
   "id": "d9973bc0-fe6e-4535-bb68-5c50a404116a",
   "metadata": {
    "tags": []
   },
   "outputs": [
    {
     "data": {
      "text/plain": [
       "<Projected CRS: EPSG:3338>\n",
       "Name: NAD83 / Alaska Albers\n",
       "Axis Info [cartesian]:\n",
       "- X[east]: Easting (metre)\n",
       "- Y[north]: Northing (metre)\n",
       "Area of Use:\n",
       "- name: United States (USA) - Alaska.\n",
       "- bounds: (172.42, 51.3, -129.99, 71.4)\n",
       "Coordinate Operation:\n",
       "- name: Alaska Albers (meters)\n",
       "- method: Albers Equal Area\n",
       "Datum: North American Datum 1983\n",
       "- Ellipsoid: GRS 1980\n",
       "- Prime Meridian: Greenwich"
      ]
     },
     "execution_count": 27,
     "metadata": {},
     "output_type": "execute_result"
    }
   ],
   "source": [
    "# check crs info\n",
    "alaska.crs\n",
    "\n",
    "## projected vs geographic\n",
    "#projected into 2d plane and now we can use the xy coordinates as meters instead of degrees!!"
   ]
  },
  {
   "cell_type": "code",
   "execution_count": 29,
   "id": "ce4dbfdc-539e-4e6e-bce6-8bef42fa93a8",
   "metadata": {
    "tags": []
   },
   "outputs": [
    {
     "name": "stdout",
     "output_type": "stream",
     "text": [
      "epsg:4326\n"
     ]
    },
    {
     "data": {
      "text/html": [
       "<div>\n",
       "<style scoped>\n",
       "    .dataframe tbody tr th:only-of-type {\n",
       "        vertical-align: middle;\n",
       "    }\n",
       "\n",
       "    .dataframe tbody tr th {\n",
       "        vertical-align: top;\n",
       "    }\n",
       "\n",
       "    .dataframe thead th {\n",
       "        text-align: right;\n",
       "    }\n",
       "</style>\n",
       "<table border=\"1\" class=\"dataframe\">\n",
       "  <thead>\n",
       "    <tr style=\"text-align: right;\">\n",
       "      <th></th>\n",
       "      <th>SCALERANK</th>\n",
       "      <th>NATSCALE</th>\n",
       "      <th>LABELRANK</th>\n",
       "      <th>FEATURECLA</th>\n",
       "      <th>NAME</th>\n",
       "      <th>NAMEPAR</th>\n",
       "      <th>NAMEALT</th>\n",
       "      <th>NAMEASCII</th>\n",
       "      <th>ADM0CAP</th>\n",
       "      <th>CAPIN</th>\n",
       "      <th>WORLDCITY</th>\n",
       "      <th>MEGACITY</th>\n",
       "      <th>SOV0NAME</th>\n",
       "      <th>SOV_A3</th>\n",
       "      <th>ADM0NAME</th>\n",
       "      <th>ADM0_A3</th>\n",
       "      <th>ADM1NAME</th>\n",
       "      <th>ISO_A2</th>\n",
       "      <th>NOTE</th>\n",
       "      <th>LATITUDE</th>\n",
       "      <th>LONGITUDE</th>\n",
       "      <th>POP_MAX</th>\n",
       "      <th>POP_MIN</th>\n",
       "      <th>POP_OTHER</th>\n",
       "      <th>RANK_MAX</th>\n",
       "      <th>RANK_MIN</th>\n",
       "      <th>MEGANAME</th>\n",
       "      <th>LS_NAME</th>\n",
       "      <th>MAX_POP10</th>\n",
       "      <th>MAX_POP20</th>\n",
       "      <th>MAX_POP50</th>\n",
       "      <th>MAX_POP300</th>\n",
       "      <th>MAX_POP310</th>\n",
       "      <th>MAX_NATSCA</th>\n",
       "      <th>MIN_AREAKM</th>\n",
       "      <th>MAX_AREAKM</th>\n",
       "      <th>MIN_AREAMI</th>\n",
       "      <th>MAX_AREAMI</th>\n",
       "      <th>MIN_PERKM</th>\n",
       "      <th>MAX_PERKM</th>\n",
       "      <th>MIN_PERMI</th>\n",
       "      <th>MAX_PERMI</th>\n",
       "      <th>MIN_BBXMIN</th>\n",
       "      <th>MAX_BBXMIN</th>\n",
       "      <th>MIN_BBXMAX</th>\n",
       "      <th>MAX_BBXMAX</th>\n",
       "      <th>MIN_BBYMIN</th>\n",
       "      <th>MAX_BBYMIN</th>\n",
       "      <th>MIN_BBYMAX</th>\n",
       "      <th>MAX_BBYMAX</th>\n",
       "      <th>MEAN_BBXC</th>\n",
       "      <th>MEAN_BBYC</th>\n",
       "      <th>TIMEZONE</th>\n",
       "      <th>UN_FID</th>\n",
       "      <th>POP1950</th>\n",
       "      <th>POP1955</th>\n",
       "      <th>POP1960</th>\n",
       "      <th>POP1965</th>\n",
       "      <th>POP1970</th>\n",
       "      <th>POP1975</th>\n",
       "      <th>POP1980</th>\n",
       "      <th>POP1985</th>\n",
       "      <th>POP1990</th>\n",
       "      <th>POP1995</th>\n",
       "      <th>POP2000</th>\n",
       "      <th>POP2005</th>\n",
       "      <th>POP2010</th>\n",
       "      <th>POP2015</th>\n",
       "      <th>POP2020</th>\n",
       "      <th>POP2025</th>\n",
       "      <th>POP2050</th>\n",
       "      <th>MIN_ZOOM</th>\n",
       "      <th>WIKIDATAID</th>\n",
       "      <th>WOF_ID</th>\n",
       "      <th>CAPALT</th>\n",
       "      <th>NAME_EN</th>\n",
       "      <th>NAME_DE</th>\n",
       "      <th>NAME_ES</th>\n",
       "      <th>NAME_FR</th>\n",
       "      <th>NAME_PT</th>\n",
       "      <th>NAME_RU</th>\n",
       "      <th>NAME_ZH</th>\n",
       "      <th>LABEL</th>\n",
       "      <th>NAME_AR</th>\n",
       "      <th>NAME_BN</th>\n",
       "      <th>NAME_EL</th>\n",
       "      <th>NAME_HI</th>\n",
       "      <th>NAME_HU</th>\n",
       "      <th>NAME_ID</th>\n",
       "      <th>NAME_IT</th>\n",
       "      <th>NAME_JA</th>\n",
       "      <th>NAME_KO</th>\n",
       "      <th>NAME_NL</th>\n",
       "      <th>NAME_PL</th>\n",
       "      <th>NAME_SV</th>\n",
       "      <th>NAME_TR</th>\n",
       "      <th>NAME_VI</th>\n",
       "      <th>NE_ID</th>\n",
       "      <th>NAME_FA</th>\n",
       "      <th>NAME_HE</th>\n",
       "      <th>NAME_UK</th>\n",
       "      <th>NAME_UR</th>\n",
       "      <th>NAME_ZHT</th>\n",
       "      <th>GEONAMESID</th>\n",
       "      <th>FCLASS_ISO</th>\n",
       "      <th>FCLASS_US</th>\n",
       "      <th>FCLASS_FR</th>\n",
       "      <th>FCLASS_RU</th>\n",
       "      <th>FCLASS_ES</th>\n",
       "      <th>FCLASS_CN</th>\n",
       "      <th>FCLASS_TW</th>\n",
       "      <th>FCLASS_IN</th>\n",
       "      <th>FCLASS_NP</th>\n",
       "      <th>FCLASS_PK</th>\n",
       "      <th>FCLASS_DE</th>\n",
       "      <th>FCLASS_GB</th>\n",
       "      <th>FCLASS_BR</th>\n",
       "      <th>FCLASS_IL</th>\n",
       "      <th>FCLASS_PS</th>\n",
       "      <th>FCLASS_SA</th>\n",
       "      <th>FCLASS_EG</th>\n",
       "      <th>FCLASS_MA</th>\n",
       "      <th>FCLASS_PT</th>\n",
       "      <th>FCLASS_AR</th>\n",
       "      <th>FCLASS_JP</th>\n",
       "      <th>FCLASS_KO</th>\n",
       "      <th>FCLASS_VN</th>\n",
       "      <th>FCLASS_TR</th>\n",
       "      <th>FCLASS_ID</th>\n",
       "      <th>FCLASS_PL</th>\n",
       "      <th>FCLASS_GR</th>\n",
       "      <th>FCLASS_IT</th>\n",
       "      <th>FCLASS_NL</th>\n",
       "      <th>FCLASS_SE</th>\n",
       "      <th>FCLASS_BD</th>\n",
       "      <th>FCLASS_UA</th>\n",
       "      <th>FCLASS_TLC</th>\n",
       "      <th>geometry</th>\n",
       "    </tr>\n",
       "  </thead>\n",
       "  <tbody>\n",
       "    <tr>\n",
       "      <th>0</th>\n",
       "      <td>10</td>\n",
       "      <td>1</td>\n",
       "      <td>5</td>\n",
       "      <td>Admin-1 region capital</td>\n",
       "      <td>Bombo</td>\n",
       "      <td>NaN</td>\n",
       "      <td>NaN</td>\n",
       "      <td>Bombo</td>\n",
       "      <td>0</td>\n",
       "      <td>NaN</td>\n",
       "      <td>0</td>\n",
       "      <td>0</td>\n",
       "      <td>Uganda</td>\n",
       "      <td>UGA</td>\n",
       "      <td>Uganda</td>\n",
       "      <td>UGA</td>\n",
       "      <td>Bamunanika</td>\n",
       "      <td>UG</td>\n",
       "      <td>NaN</td>\n",
       "      <td>0.583299</td>\n",
       "      <td>32.533300</td>\n",
       "      <td>75000</td>\n",
       "      <td>21000</td>\n",
       "      <td>0.0</td>\n",
       "      <td>8</td>\n",
       "      <td>7</td>\n",
       "      <td>NaN</td>\n",
       "      <td>NaN</td>\n",
       "      <td>0.0</td>\n",
       "      <td>0.0</td>\n",
       "      <td>0.0</td>\n",
       "      <td>0.0</td>\n",
       "      <td>0.0</td>\n",
       "      <td>0.0</td>\n",
       "      <td>0.0</td>\n",
       "      <td>0.0</td>\n",
       "      <td>0.0</td>\n",
       "      <td>0.0</td>\n",
       "      <td>0.0</td>\n",
       "      <td>0.0</td>\n",
       "      <td>0.0</td>\n",
       "      <td>0.0</td>\n",
       "      <td>0.0</td>\n",
       "      <td>0.0</td>\n",
       "      <td>0.0</td>\n",
       "      <td>0.0</td>\n",
       "      <td>0.0</td>\n",
       "      <td>0.0</td>\n",
       "      <td>0.0</td>\n",
       "      <td>0.0</td>\n",
       "      <td>0.0</td>\n",
       "      <td>0.0</td>\n",
       "      <td>NaN</td>\n",
       "      <td>0.0</td>\n",
       "      <td>0.0</td>\n",
       "      <td>0.0</td>\n",
       "      <td>0.0</td>\n",
       "      <td>0.0</td>\n",
       "      <td>0.0</td>\n",
       "      <td>0.0</td>\n",
       "      <td>0.0</td>\n",
       "      <td>0.0</td>\n",
       "      <td>0.0</td>\n",
       "      <td>0.0</td>\n",
       "      <td>0.0</td>\n",
       "      <td>0.0</td>\n",
       "      <td>0.0</td>\n",
       "      <td>0.0</td>\n",
       "      <td>0.0</td>\n",
       "      <td>0.0</td>\n",
       "      <td>0.0</td>\n",
       "      <td>7.0</td>\n",
       "      <td>Q4940747</td>\n",
       "      <td>1141906025</td>\n",
       "      <td>0</td>\n",
       "      <td>Bombo</td>\n",
       "      <td>Bombo</td>\n",
       "      <td>Bombo</td>\n",
       "      <td>Bombo</td>\n",
       "      <td>Bombo</td>\n",
       "      <td>Бомбо</td>\n",
       "      <td>邦博</td>\n",
       "      <td>NaN</td>\n",
       "      <td>بومبو</td>\n",
       "      <td>বোম্বো</td>\n",
       "      <td>Μπόμπο</td>\n",
       "      <td>बॉम्बो</td>\n",
       "      <td>Bombo</td>\n",
       "      <td>Bombo</td>\n",
       "      <td>Bombo</td>\n",
       "      <td>ボンボ</td>\n",
       "      <td>봄보</td>\n",
       "      <td>Bombo</td>\n",
       "      <td>Bombo</td>\n",
       "      <td>Bombo</td>\n",
       "      <td>Bombo</td>\n",
       "      <td>Bombo</td>\n",
       "      <td>1159113923</td>\n",
       "      <td>بمبو</td>\n",
       "      <td>בומבו</td>\n",
       "      <td>Бомбо</td>\n",
       "      <td>بومبو</td>\n",
       "      <td>邦博</td>\n",
       "      <td>NaN</td>\n",
       "      <td>NaN</td>\n",
       "      <td>NaN</td>\n",
       "      <td>NaN</td>\n",
       "      <td>NaN</td>\n",
       "      <td>NaN</td>\n",
       "      <td>NaN</td>\n",
       "      <td>NaN</td>\n",
       "      <td>NaN</td>\n",
       "      <td>NaN</td>\n",
       "      <td>NaN</td>\n",
       "      <td>NaN</td>\n",
       "      <td>NaN</td>\n",
       "      <td>NaN</td>\n",
       "      <td>NaN</td>\n",
       "      <td>NaN</td>\n",
       "      <td>NaN</td>\n",
       "      <td>NaN</td>\n",
       "      <td>NaN</td>\n",
       "      <td>NaN</td>\n",
       "      <td>NaN</td>\n",
       "      <td>NaN</td>\n",
       "      <td>NaN</td>\n",
       "      <td>NaN</td>\n",
       "      <td>NaN</td>\n",
       "      <td>NaN</td>\n",
       "      <td>NaN</td>\n",
       "      <td>NaN</td>\n",
       "      <td>NaN</td>\n",
       "      <td>NaN</td>\n",
       "      <td>NaN</td>\n",
       "      <td>NaN</td>\n",
       "      <td>NaN</td>\n",
       "      <td>NaN</td>\n",
       "      <td>POINT (32.53330 0.58330)</td>\n",
       "    </tr>\n",
       "    <tr>\n",
       "      <th>1</th>\n",
       "      <td>10</td>\n",
       "      <td>1</td>\n",
       "      <td>5</td>\n",
       "      <td>Admin-1 region capital</td>\n",
       "      <td>Fort Portal</td>\n",
       "      <td>NaN</td>\n",
       "      <td>NaN</td>\n",
       "      <td>Fort Portal</td>\n",
       "      <td>0</td>\n",
       "      <td>NaN</td>\n",
       "      <td>0</td>\n",
       "      <td>0</td>\n",
       "      <td>Uganda</td>\n",
       "      <td>UGA</td>\n",
       "      <td>Uganda</td>\n",
       "      <td>UGA</td>\n",
       "      <td>Kabarole</td>\n",
       "      <td>UG</td>\n",
       "      <td>NaN</td>\n",
       "      <td>0.671004</td>\n",
       "      <td>30.275002</td>\n",
       "      <td>42670</td>\n",
       "      <td>42670</td>\n",
       "      <td>0.0</td>\n",
       "      <td>7</td>\n",
       "      <td>7</td>\n",
       "      <td>NaN</td>\n",
       "      <td>NaN</td>\n",
       "      <td>0.0</td>\n",
       "      <td>0.0</td>\n",
       "      <td>0.0</td>\n",
       "      <td>0.0</td>\n",
       "      <td>0.0</td>\n",
       "      <td>0.0</td>\n",
       "      <td>0.0</td>\n",
       "      <td>0.0</td>\n",
       "      <td>0.0</td>\n",
       "      <td>0.0</td>\n",
       "      <td>0.0</td>\n",
       "      <td>0.0</td>\n",
       "      <td>0.0</td>\n",
       "      <td>0.0</td>\n",
       "      <td>0.0</td>\n",
       "      <td>0.0</td>\n",
       "      <td>0.0</td>\n",
       "      <td>0.0</td>\n",
       "      <td>0.0</td>\n",
       "      <td>0.0</td>\n",
       "      <td>0.0</td>\n",
       "      <td>0.0</td>\n",
       "      <td>0.0</td>\n",
       "      <td>0.0</td>\n",
       "      <td>Africa/Kampala</td>\n",
       "      <td>0.0</td>\n",
       "      <td>0.0</td>\n",
       "      <td>0.0</td>\n",
       "      <td>0.0</td>\n",
       "      <td>0.0</td>\n",
       "      <td>0.0</td>\n",
       "      <td>0.0</td>\n",
       "      <td>0.0</td>\n",
       "      <td>0.0</td>\n",
       "      <td>0.0</td>\n",
       "      <td>0.0</td>\n",
       "      <td>0.0</td>\n",
       "      <td>0.0</td>\n",
       "      <td>0.0</td>\n",
       "      <td>0.0</td>\n",
       "      <td>0.0</td>\n",
       "      <td>0.0</td>\n",
       "      <td>0.0</td>\n",
       "      <td>7.0</td>\n",
       "      <td>Q500107</td>\n",
       "      <td>421174009</td>\n",
       "      <td>0</td>\n",
       "      <td>Fort Portal</td>\n",
       "      <td>Fort Portal</td>\n",
       "      <td>Fort Portal</td>\n",
       "      <td>Fort Portal</td>\n",
       "      <td>Fort Portal</td>\n",
       "      <td>Форт-Портал</td>\n",
       "      <td>波特爾堡</td>\n",
       "      <td>NaN</td>\n",
       "      <td>فورت بورتال</td>\n",
       "      <td>ফোর্ট পোর্টাল</td>\n",
       "      <td>Φορτ Πορτάλ</td>\n",
       "      <td>फोर्ट पोर्टल</td>\n",
       "      <td>Fort Portal</td>\n",
       "      <td>Fort Portal</td>\n",
       "      <td>Fort Portal</td>\n",
       "      <td>フォート・ポータル</td>\n",
       "      <td>포트포털</td>\n",
       "      <td>Fort Portal</td>\n",
       "      <td>Fort Portal</td>\n",
       "      <td>Fort Portal</td>\n",
       "      <td>Fort Portal</td>\n",
       "      <td>Fort Portal</td>\n",
       "      <td>1159113959</td>\n",
       "      <td>فورت پورتال</td>\n",
       "      <td>פורט פורטל</td>\n",
       "      <td>Форт-Портал</td>\n",
       "      <td>فورٹ پورٹل</td>\n",
       "      <td>波特爾堡</td>\n",
       "      <td>233476.0</td>\n",
       "      <td>NaN</td>\n",
       "      <td>NaN</td>\n",
       "      <td>NaN</td>\n",
       "      <td>NaN</td>\n",
       "      <td>NaN</td>\n",
       "      <td>NaN</td>\n",
       "      <td>NaN</td>\n",
       "      <td>NaN</td>\n",
       "      <td>NaN</td>\n",
       "      <td>NaN</td>\n",
       "      <td>NaN</td>\n",
       "      <td>NaN</td>\n",
       "      <td>NaN</td>\n",
       "      <td>NaN</td>\n",
       "      <td>NaN</td>\n",
       "      <td>NaN</td>\n",
       "      <td>NaN</td>\n",
       "      <td>NaN</td>\n",
       "      <td>NaN</td>\n",
       "      <td>NaN</td>\n",
       "      <td>NaN</td>\n",
       "      <td>NaN</td>\n",
       "      <td>NaN</td>\n",
       "      <td>NaN</td>\n",
       "      <td>NaN</td>\n",
       "      <td>NaN</td>\n",
       "      <td>NaN</td>\n",
       "      <td>NaN</td>\n",
       "      <td>NaN</td>\n",
       "      <td>NaN</td>\n",
       "      <td>NaN</td>\n",
       "      <td>NaN</td>\n",
       "      <td>NaN</td>\n",
       "      <td>POINT (30.27500 0.67100)</td>\n",
       "    </tr>\n",
       "    <tr>\n",
       "      <th>2</th>\n",
       "      <td>10</td>\n",
       "      <td>1</td>\n",
       "      <td>3</td>\n",
       "      <td>Admin-1 region capital</td>\n",
       "      <td>Potenza</td>\n",
       "      <td>NaN</td>\n",
       "      <td>NaN</td>\n",
       "      <td>Potenza</td>\n",
       "      <td>0</td>\n",
       "      <td>NaN</td>\n",
       "      <td>0</td>\n",
       "      <td>0</td>\n",
       "      <td>Italy</td>\n",
       "      <td>ITA</td>\n",
       "      <td>Italy</td>\n",
       "      <td>ITA</td>\n",
       "      <td>Basilicata</td>\n",
       "      <td>IT</td>\n",
       "      <td>NaN</td>\n",
       "      <td>40.642002</td>\n",
       "      <td>15.798997</td>\n",
       "      <td>69060</td>\n",
       "      <td>69060</td>\n",
       "      <td>0.0</td>\n",
       "      <td>8</td>\n",
       "      <td>8</td>\n",
       "      <td>NaN</td>\n",
       "      <td>NaN</td>\n",
       "      <td>0.0</td>\n",
       "      <td>0.0</td>\n",
       "      <td>0.0</td>\n",
       "      <td>0.0</td>\n",
       "      <td>0.0</td>\n",
       "      <td>0.0</td>\n",
       "      <td>0.0</td>\n",
       "      <td>0.0</td>\n",
       "      <td>0.0</td>\n",
       "      <td>0.0</td>\n",
       "      <td>0.0</td>\n",
       "      <td>0.0</td>\n",
       "      <td>0.0</td>\n",
       "      <td>0.0</td>\n",
       "      <td>0.0</td>\n",
       "      <td>0.0</td>\n",
       "      <td>0.0</td>\n",
       "      <td>0.0</td>\n",
       "      <td>0.0</td>\n",
       "      <td>0.0</td>\n",
       "      <td>0.0</td>\n",
       "      <td>0.0</td>\n",
       "      <td>0.0</td>\n",
       "      <td>0.0</td>\n",
       "      <td>Europe/Rome</td>\n",
       "      <td>0.0</td>\n",
       "      <td>0.0</td>\n",
       "      <td>0.0</td>\n",
       "      <td>0.0</td>\n",
       "      <td>0.0</td>\n",
       "      <td>0.0</td>\n",
       "      <td>0.0</td>\n",
       "      <td>0.0</td>\n",
       "      <td>0.0</td>\n",
       "      <td>0.0</td>\n",
       "      <td>0.0</td>\n",
       "      <td>0.0</td>\n",
       "      <td>0.0</td>\n",
       "      <td>0.0</td>\n",
       "      <td>0.0</td>\n",
       "      <td>0.0</td>\n",
       "      <td>0.0</td>\n",
       "      <td>0.0</td>\n",
       "      <td>7.0</td>\n",
       "      <td>Q3543</td>\n",
       "      <td>101752567</td>\n",
       "      <td>0</td>\n",
       "      <td>Potenza</td>\n",
       "      <td>Potenza</td>\n",
       "      <td>Potenza</td>\n",
       "      <td>Potenza</td>\n",
       "      <td>Potenza</td>\n",
       "      <td>Потенца</td>\n",
       "      <td>波坦察</td>\n",
       "      <td>NaN</td>\n",
       "      <td>بوتنسا</td>\n",
       "      <td>পোটেঞ্জা</td>\n",
       "      <td>Ποτέντσα</td>\n",
       "      <td>पोटेंजा</td>\n",
       "      <td>Potenza</td>\n",
       "      <td>Potenza</td>\n",
       "      <td>Potenza</td>\n",
       "      <td>ポテンツァ</td>\n",
       "      <td>포텐차</td>\n",
       "      <td>Potenza</td>\n",
       "      <td>Potenza</td>\n",
       "      <td>Potenza</td>\n",
       "      <td>Potenza</td>\n",
       "      <td>Potenza</td>\n",
       "      <td>1159117259</td>\n",
       "      <td>پوتنزا</td>\n",
       "      <td>פוטנצה</td>\n",
       "      <td>Потенца</td>\n",
       "      <td>پوتینتسا</td>\n",
       "      <td>波坦察</td>\n",
       "      <td>3170027.0</td>\n",
       "      <td>NaN</td>\n",
       "      <td>NaN</td>\n",
       "      <td>NaN</td>\n",
       "      <td>NaN</td>\n",
       "      <td>NaN</td>\n",
       "      <td>NaN</td>\n",
       "      <td>NaN</td>\n",
       "      <td>NaN</td>\n",
       "      <td>NaN</td>\n",
       "      <td>NaN</td>\n",
       "      <td>NaN</td>\n",
       "      <td>NaN</td>\n",
       "      <td>NaN</td>\n",
       "      <td>NaN</td>\n",
       "      <td>NaN</td>\n",
       "      <td>NaN</td>\n",
       "      <td>NaN</td>\n",
       "      <td>NaN</td>\n",
       "      <td>NaN</td>\n",
       "      <td>NaN</td>\n",
       "      <td>NaN</td>\n",
       "      <td>NaN</td>\n",
       "      <td>NaN</td>\n",
       "      <td>NaN</td>\n",
       "      <td>NaN</td>\n",
       "      <td>NaN</td>\n",
       "      <td>NaN</td>\n",
       "      <td>NaN</td>\n",
       "      <td>NaN</td>\n",
       "      <td>NaN</td>\n",
       "      <td>NaN</td>\n",
       "      <td>NaN</td>\n",
       "      <td>NaN</td>\n",
       "      <td>POINT (15.79900 40.64200)</td>\n",
       "    </tr>\n",
       "  </tbody>\n",
       "</table>\n",
       "</div>"
      ],
      "text/plain": [
       "   SCALERANK  NATSCALE  LABELRANK              FEATURECLA         NAME  \\\n",
       "0         10         1          5  Admin-1 region capital        Bombo   \n",
       "1         10         1          5  Admin-1 region capital  Fort Portal   \n",
       "2         10         1          3  Admin-1 region capital      Potenza   \n",
       "\n",
       "  NAMEPAR NAMEALT    NAMEASCII  ADM0CAP CAPIN  WORLDCITY  MEGACITY SOV0NAME  \\\n",
       "0     NaN     NaN        Bombo        0   NaN          0         0   Uganda   \n",
       "1     NaN     NaN  Fort Portal        0   NaN          0         0   Uganda   \n",
       "2     NaN     NaN      Potenza        0   NaN          0         0    Italy   \n",
       "\n",
       "  SOV_A3 ADM0NAME ADM0_A3    ADM1NAME ISO_A2 NOTE   LATITUDE  LONGITUDE  \\\n",
       "0    UGA   Uganda     UGA  Bamunanika     UG  NaN   0.583299  32.533300   \n",
       "1    UGA   Uganda     UGA    Kabarole     UG  NaN   0.671004  30.275002   \n",
       "2    ITA    Italy     ITA  Basilicata     IT  NaN  40.642002  15.798997   \n",
       "\n",
       "   POP_MAX  POP_MIN  POP_OTHER  RANK_MAX  RANK_MIN MEGANAME LS_NAME  \\\n",
       "0    75000    21000        0.0         8         7      NaN     NaN   \n",
       "1    42670    42670        0.0         7         7      NaN     NaN   \n",
       "2    69060    69060        0.0         8         8      NaN     NaN   \n",
       "\n",
       "   MAX_POP10  MAX_POP20  MAX_POP50  MAX_POP300  MAX_POP310  MAX_NATSCA  \\\n",
       "0        0.0        0.0        0.0         0.0         0.0         0.0   \n",
       "1        0.0        0.0        0.0         0.0         0.0         0.0   \n",
       "2        0.0        0.0        0.0         0.0         0.0         0.0   \n",
       "\n",
       "   MIN_AREAKM  MAX_AREAKM  MIN_AREAMI  MAX_AREAMI  MIN_PERKM  MAX_PERKM  \\\n",
       "0         0.0         0.0         0.0         0.0        0.0        0.0   \n",
       "1         0.0         0.0         0.0         0.0        0.0        0.0   \n",
       "2         0.0         0.0         0.0         0.0        0.0        0.0   \n",
       "\n",
       "   MIN_PERMI  MAX_PERMI  MIN_BBXMIN  MAX_BBXMIN  MIN_BBXMAX  MAX_BBXMAX  \\\n",
       "0        0.0        0.0         0.0         0.0         0.0         0.0   \n",
       "1        0.0        0.0         0.0         0.0         0.0         0.0   \n",
       "2        0.0        0.0         0.0         0.0         0.0         0.0   \n",
       "\n",
       "   MIN_BBYMIN  MAX_BBYMIN  MIN_BBYMAX  MAX_BBYMAX  MEAN_BBXC  MEAN_BBYC  \\\n",
       "0         0.0         0.0         0.0         0.0        0.0        0.0   \n",
       "1         0.0         0.0         0.0         0.0        0.0        0.0   \n",
       "2         0.0         0.0         0.0         0.0        0.0        0.0   \n",
       "\n",
       "         TIMEZONE  UN_FID  POP1950  POP1955  POP1960  POP1965  POP1970  \\\n",
       "0             NaN     0.0      0.0      0.0      0.0      0.0      0.0   \n",
       "1  Africa/Kampala     0.0      0.0      0.0      0.0      0.0      0.0   \n",
       "2     Europe/Rome     0.0      0.0      0.0      0.0      0.0      0.0   \n",
       "\n",
       "   POP1975  POP1980  POP1985  POP1990  POP1995  POP2000  POP2005  POP2010  \\\n",
       "0      0.0      0.0      0.0      0.0      0.0      0.0      0.0      0.0   \n",
       "1      0.0      0.0      0.0      0.0      0.0      0.0      0.0      0.0   \n",
       "2      0.0      0.0      0.0      0.0      0.0      0.0      0.0      0.0   \n",
       "\n",
       "   POP2015  POP2020  POP2025  POP2050  MIN_ZOOM WIKIDATAID      WOF_ID  \\\n",
       "0      0.0      0.0      0.0      0.0       7.0   Q4940747  1141906025   \n",
       "1      0.0      0.0      0.0      0.0       7.0    Q500107   421174009   \n",
       "2      0.0      0.0      0.0      0.0       7.0      Q3543   101752567   \n",
       "\n",
       "   CAPALT      NAME_EN      NAME_DE      NAME_ES      NAME_FR      NAME_PT  \\\n",
       "0       0        Bombo        Bombo        Bombo        Bombo        Bombo   \n",
       "1       0  Fort Portal  Fort Portal  Fort Portal  Fort Portal  Fort Portal   \n",
       "2       0      Potenza      Potenza      Potenza      Potenza      Potenza   \n",
       "\n",
       "       NAME_RU NAME_ZH  LABEL      NAME_AR        NAME_BN      NAME_EL  \\\n",
       "0        Бомбо      邦博    NaN        بومبو         বোম্বো       Μπόμπο   \n",
       "1  Форт-Портал    波特爾堡    NaN  فورت بورتال  ফোর্ট পোর্টাল  Φορτ Πορτάλ   \n",
       "2      Потенца     波坦察    NaN       بوتنسا       পোটেঞ্জা     Ποτέντσα   \n",
       "\n",
       "        NAME_HI      NAME_HU      NAME_ID      NAME_IT    NAME_JA NAME_KO  \\\n",
       "0        बॉम्बो        Bombo        Bombo        Bombo        ボンボ      봄보   \n",
       "1  फोर्ट पोर्टल  Fort Portal  Fort Portal  Fort Portal  フォート・ポータル    포트포털   \n",
       "2       पोटेंजा      Potenza      Potenza      Potenza      ポテンツァ     포텐차   \n",
       "\n",
       "       NAME_NL      NAME_PL      NAME_SV      NAME_TR      NAME_VI  \\\n",
       "0        Bombo        Bombo        Bombo        Bombo        Bombo   \n",
       "1  Fort Portal  Fort Portal  Fort Portal  Fort Portal  Fort Portal   \n",
       "2      Potenza      Potenza      Potenza      Potenza      Potenza   \n",
       "\n",
       "        NE_ID      NAME_FA     NAME_HE      NAME_UK     NAME_UR NAME_ZHT  \\\n",
       "0  1159113923         بمبو       בומבו        Бомбо       بومبو       邦博   \n",
       "1  1159113959  فورت پورتال  פורט פורטל  Форт-Портал  فورٹ پورٹل     波特爾堡   \n",
       "2  1159117259       پوتنزا      פוטנצה      Потенца    پوتینتسا      波坦察   \n",
       "\n",
       "   GEONAMESID FCLASS_ISO FCLASS_US FCLASS_FR FCLASS_RU FCLASS_ES FCLASS_CN  \\\n",
       "0         NaN        NaN       NaN       NaN       NaN       NaN       NaN   \n",
       "1    233476.0        NaN       NaN       NaN       NaN       NaN       NaN   \n",
       "2   3170027.0        NaN       NaN       NaN       NaN       NaN       NaN   \n",
       "\n",
       "  FCLASS_TW FCLASS_IN FCLASS_NP FCLASS_PK FCLASS_DE FCLASS_GB FCLASS_BR  \\\n",
       "0       NaN       NaN       NaN       NaN       NaN       NaN       NaN   \n",
       "1       NaN       NaN       NaN       NaN       NaN       NaN       NaN   \n",
       "2       NaN       NaN       NaN       NaN       NaN       NaN       NaN   \n",
       "\n",
       "  FCLASS_IL FCLASS_PS FCLASS_SA FCLASS_EG FCLASS_MA FCLASS_PT FCLASS_AR  \\\n",
       "0       NaN       NaN       NaN       NaN       NaN       NaN       NaN   \n",
       "1       NaN       NaN       NaN       NaN       NaN       NaN       NaN   \n",
       "2       NaN       NaN       NaN       NaN       NaN       NaN       NaN   \n",
       "\n",
       "  FCLASS_JP FCLASS_KO FCLASS_VN FCLASS_TR FCLASS_ID FCLASS_PL FCLASS_GR  \\\n",
       "0       NaN       NaN       NaN       NaN       NaN       NaN       NaN   \n",
       "1       NaN       NaN       NaN       NaN       NaN       NaN       NaN   \n",
       "2       NaN       NaN       NaN       NaN       NaN       NaN       NaN   \n",
       "\n",
       "  FCLASS_IT FCLASS_NL FCLASS_SE FCLASS_BD FCLASS_UA FCLASS_TLC  \\\n",
       "0       NaN       NaN       NaN       NaN       NaN        NaN   \n",
       "1       NaN       NaN       NaN       NaN       NaN        NaN   \n",
       "2       NaN       NaN       NaN       NaN       NaN        NaN   \n",
       "\n",
       "                    geometry  \n",
       "0   POINT (32.53330 0.58330)  \n",
       "1   POINT (30.27500 0.67100)  \n",
       "2  POINT (15.79900 40.64200)  "
      ]
     },
     "execution_count": 29,
     "metadata": {},
     "output_type": "execute_result"
    }
   ],
   "source": [
    "print(places.crs)\n",
    "places.head(3)"
   ]
  },
  {
   "cell_type": "markdown",
   "id": "b3cc1731-1b14-4bd8-bea5-96e79331bf1f",
   "metadata": {},
   "source": [
    "epsg:4326/WGS84 is the most used crs for global data"
   ]
  },
  {
   "cell_type": "code",
   "execution_count": 32,
   "id": "21b5a9dd-9cd1-4709-a4a8-b82762d5a450",
   "metadata": {
    "tags": []
   },
   "outputs": [
    {
     "name": "stderr",
     "output_type": "stream",
     "text": [
      "/opt/python/3.7.13/lib/python3.7/site-packages/geopandas/plotting.py:51: ShapelyDeprecationWarning: The 'type' attribute is deprecated, and will be removed in the future. You can use the 'geom_type' attribute instead.\n",
      "  if geom is not None and geom.type.startswith(prefix) and not geom.is_empty:\n"
     ]
    },
    {
     "data": {
      "image/png": "[encoded data removed]",
      "text/plain": [
       "<Figure size 640x480 with 1 Axes>"
      ]
     },
     "metadata": {},
     "output_type": "display_data"
    }
   ],
   "source": [
    "fig, ax = plt.subplots()\n",
    "\n",
    "alaska.plot(ax=ax)\n",
    "places.plot(ax=ax, color='red')\n",
    "\n",
    "plt.show()\n",
    "\n",
    "## lesson, we always need the same crs\n",
    "\n",
    "## classic geospatial mistake"
   ]
  },
  {
   "cell_type": "code",
   "execution_count": 33,
   "id": "5448bc77-a2ef-4bc0-bd3a-ba82d27491e3",
   "metadata": {
    "tags": []
   },
   "outputs": [
    {
     "name": "stdout",
     "output_type": "stream",
     "text": [
      "epsg:3338\n",
      "epsg:4326\n"
     ]
    }
   ],
   "source": [
    "print(alaska.crs)\n",
    "print(places.crs)"
   ]
  },
  {
   "cell_type": "code",
   "execution_count": 35,
   "id": "cc6c44d1-08cb-4372-870c-67e7588f59e5",
   "metadata": {
    "tags": []
   },
   "outputs": [],
   "source": [
    "places = places.to_crs(alaska.crs) # reproject to the crs in the other geodataframe"
   ]
  },
  {
   "cell_type": "code",
   "execution_count": 36,
   "id": "8f46b1da-37fb-400b-a409-fa5478a408a5",
   "metadata": {
    "tags": []
   },
   "outputs": [
    {
     "name": "stdout",
     "output_type": "stream",
     "text": [
      "True\n"
     ]
    }
   ],
   "source": [
    "print(alaska.crs==places.crs)"
   ]
  },
  {
   "cell_type": "code",
   "execution_count": 38,
   "id": "8a7d93a1-f676-48d0-bea7-655e0ce9bf94",
   "metadata": {
    "tags": []
   },
   "outputs": [
    {
     "name": "stderr",
     "output_type": "stream",
     "text": [
      "/opt/python/3.7.13/lib/python3.7/site-packages/geopandas/plotting.py:51: ShapelyDeprecationWarning: The 'type' attribute is deprecated, and will be removed in the future. You can use the 'geom_type' attribute instead.\n",
      "  if geom is not None and geom.type.startswith(prefix) and not geom.is_empty:\n"
     ]
    },
    {
     "data": {
      "image/png": "[encoded data removed]",
      "text/plain": [
       "<Figure size 640x480 with 1 Axes>"
      ]
     },
     "metadata": {},
     "output_type": "display_data"
    }
   ],
   "source": [
    "fig, ax = plt.subplots()\n",
    "\n",
    "alaska.plot(ax=ax)\n",
    "places.plot(ax=ax, color='red', markersize=2)\n",
    "\n",
    "plt.show()"
   ]
  },
  {
   "cell_type": "markdown",
   "id": "7a13bd6f-dcf8-4f13-b143-7caa45a4ddbc",
   "metadata": {
    "tags": []
   },
   "source": [
    "## clip data\n",
    "\n",
    "clipping means using a polygon or polygons to only select geospatial data within those polygons\n",
    "\n",
    "use the clip function\n",
    "\n",
    "syntax:\n",
    "updated_geodf = gpd.clip(geodf, mask)\n",
    "\n",
    "geodf is what we want to clip\n",
    "mask must be in the same crs!!!!!\n"
   ]
  },
  {
   "cell_type": "code",
   "execution_count": 40,
   "id": "003372be-469e-46d2-a420-4f1a8faf1436",
   "metadata": {
    "tags": []
   },
   "outputs": [
    {
     "ename": "ImportError",
     "evalue": "Spatial indexes require either `rtree` or `pygeos`. See installation instructions at https://geopandas.org/install.html",
     "output_type": "error",
     "traceback": [
      "\u001b[0;31m---------------------------------------------------------------------------\u001b[0m",
      "\u001b[0;31mImportError\u001b[0m                               Traceback (most recent call last)",
      "\u001b[0;32m/tmp/ipykernel_47880/4078529101.py\u001b[0m in \u001b[0;36m<module>\u001b[0;34m\u001b[0m\n\u001b[0;32m----> 1\u001b[0;31m \u001b[0mak_places\u001b[0m \u001b[0;34m=\u001b[0m \u001b[0mgpd\u001b[0m\u001b[0;34m.\u001b[0m\u001b[0mclip\u001b[0m\u001b[0;34m(\u001b[0m\u001b[0mplaces\u001b[0m\u001b[0;34m,\u001b[0m \u001b[0malaska\u001b[0m\u001b[0;34m)\u001b[0m\u001b[0;34m\u001b[0m\u001b[0;34m\u001b[0m\u001b[0m\n\u001b[0m",
      "\u001b[0;32m/opt/python/3.7.13/lib/python3.7/site-packages/geopandas/tools/clip.py\u001b[0m in \u001b[0;36mclip\u001b[0;34m(gdf, mask, keep_geom_type)\u001b[0m\n\u001b[1;32m    137\u001b[0m         \u001b[0mpoly\u001b[0m \u001b[0;34m=\u001b[0m \u001b[0mmask\u001b[0m\u001b[0;34m\u001b[0m\u001b[0;34m\u001b[0m\u001b[0m\n\u001b[1;32m    138\u001b[0m \u001b[0;34m\u001b[0m\u001b[0m\n\u001b[0;32m--> 139\u001b[0;31m     \u001b[0mclipped\u001b[0m \u001b[0;34m=\u001b[0m \u001b[0m_clip_gdf_with_polygon\u001b[0m\u001b[0;34m(\u001b[0m\u001b[0mgdf\u001b[0m\u001b[0;34m,\u001b[0m \u001b[0mpoly\u001b[0m\u001b[0;34m)\u001b[0m\u001b[0;34m\u001b[0m\u001b[0;34m\u001b[0m\u001b[0m\n\u001b[0m\u001b[1;32m    140\u001b[0m \u001b[0;34m\u001b[0m\u001b[0m\n\u001b[1;32m    141\u001b[0m     \u001b[0;32mif\u001b[0m \u001b[0mkeep_geom_type\u001b[0m\u001b[0;34m:\u001b[0m\u001b[0;34m\u001b[0m\u001b[0;34m\u001b[0m\u001b[0m\n",
      "\u001b[0;32m/opt/python/3.7.13/lib/python3.7/site-packages/geopandas/tools/clip.py\u001b[0m in \u001b[0;36m_clip_gdf_with_polygon\u001b[0;34m(gdf, poly)\u001b[0m\n\u001b[1;32m     34\u001b[0m         \u001b[0mthat\u001b[0m \u001b[0mintersects\u001b[0m \u001b[0;32mwith\u001b[0m \u001b[0mpoly\u001b[0m\u001b[0;34m.\u001b[0m\u001b[0;34m\u001b[0m\u001b[0;34m\u001b[0m\u001b[0m\n\u001b[1;32m     35\u001b[0m     \"\"\"\n\u001b[0;32m---> 36\u001b[0;31m     \u001b[0mgdf_sub\u001b[0m \u001b[0;34m=\u001b[0m \u001b[0mgdf\u001b[0m\u001b[0;34m.\u001b[0m\u001b[0miloc\u001b[0m\u001b[0;34m[\u001b[0m\u001b[0mgdf\u001b[0m\u001b[0;34m.\u001b[0m\u001b[0msindex\u001b[0m\u001b[0;34m.\u001b[0m\u001b[0mquery\u001b[0m\u001b[0;34m(\u001b[0m\u001b[0mpoly\u001b[0m\u001b[0;34m,\u001b[0m \u001b[0mpredicate\u001b[0m\u001b[0;34m=\u001b[0m\u001b[0;34m\"intersects\"\u001b[0m\u001b[0;34m)\u001b[0m\u001b[0;34m]\u001b[0m\u001b[0;34m\u001b[0m\u001b[0;34m\u001b[0m\u001b[0m\n\u001b[0m\u001b[1;32m     37\u001b[0m \u001b[0;34m\u001b[0m\u001b[0m\n\u001b[1;32m     38\u001b[0m     \u001b[0;31m# For performance reasons points don't need to be intersected with poly\u001b[0m\u001b[0;34m\u001b[0m\u001b[0;34m\u001b[0m\u001b[0;34m\u001b[0m\u001b[0m\n",
      "\u001b[0;32m/opt/python/3.7.13/lib/python3.7/site-packages/geopandas/base.py\u001b[0m in \u001b[0;36msindex\u001b[0;34m(self)\u001b[0m\n\u001b[1;32m   2635\u001b[0m                [2]])\n\u001b[1;32m   2636\u001b[0m         \"\"\"\n\u001b[0;32m-> 2637\u001b[0;31m         \u001b[0;32mreturn\u001b[0m \u001b[0mself\u001b[0m\u001b[0;34m.\u001b[0m\u001b[0mgeometry\u001b[0m\u001b[0;34m.\u001b[0m\u001b[0mvalues\u001b[0m\u001b[0;34m.\u001b[0m\u001b[0msindex\u001b[0m\u001b[0;34m\u001b[0m\u001b[0;34m\u001b[0m\u001b[0m\n\u001b[0m\u001b[1;32m   2638\u001b[0m \u001b[0;34m\u001b[0m\u001b[0m\n\u001b[1;32m   2639\u001b[0m     \u001b[0;34m@\u001b[0m\u001b[0mproperty\u001b[0m\u001b[0;34m\u001b[0m\u001b[0;34m\u001b[0m\u001b[0m\n",
      "\u001b[0;32m/opt/python/3.7.13/lib/python3.7/site-packages/geopandas/array.py\u001b[0m in \u001b[0;36msindex\u001b[0;34m(self)\u001b[0m\n\u001b[1;32m    290\u001b[0m     \u001b[0;32mdef\u001b[0m \u001b[0msindex\u001b[0m\u001b[0;34m(\u001b[0m\u001b[0mself\u001b[0m\u001b[0;34m)\u001b[0m\u001b[0;34m:\u001b[0m\u001b[0;34m\u001b[0m\u001b[0;34m\u001b[0m\u001b[0m\n\u001b[1;32m    291\u001b[0m         \u001b[0;32mif\u001b[0m \u001b[0mself\u001b[0m\u001b[0;34m.\u001b[0m\u001b[0m_sindex\u001b[0m \u001b[0;32mis\u001b[0m \u001b[0;32mNone\u001b[0m\u001b[0;34m:\u001b[0m\u001b[0;34m\u001b[0m\u001b[0;34m\u001b[0m\u001b[0m\n\u001b[0;32m--> 292\u001b[0;31m             \u001b[0mself\u001b[0m\u001b[0;34m.\u001b[0m\u001b[0m_sindex\u001b[0m \u001b[0;34m=\u001b[0m \u001b[0m_get_sindex_class\u001b[0m\u001b[0;34m(\u001b[0m\u001b[0;34m)\u001b[0m\u001b[0;34m(\u001b[0m\u001b[0mself\u001b[0m\u001b[0;34m.\u001b[0m\u001b[0mdata\u001b[0m\u001b[0;34m)\u001b[0m\u001b[0;34m\u001b[0m\u001b[0;34m\u001b[0m\u001b[0m\n\u001b[0m\u001b[1;32m    293\u001b[0m         \u001b[0;32mreturn\u001b[0m \u001b[0mself\u001b[0m\u001b[0;34m.\u001b[0m\u001b[0m_sindex\u001b[0m\u001b[0;34m\u001b[0m\u001b[0;34m\u001b[0m\u001b[0m\n\u001b[1;32m    294\u001b[0m \u001b[0;34m\u001b[0m\u001b[0m\n",
      "\u001b[0;32m/opt/python/3.7.13/lib/python3.7/site-packages/geopandas/sindex.py\u001b[0m in \u001b[0;36m_get_sindex_class\u001b[0;34m()\u001b[0m\n\u001b[1;32m     20\u001b[0m         \u001b[0;32mreturn\u001b[0m \u001b[0mRTreeIndex\u001b[0m\u001b[0;34m\u001b[0m\u001b[0;34m\u001b[0m\u001b[0m\n\u001b[1;32m     21\u001b[0m     raise ImportError(\n\u001b[0;32m---> 22\u001b[0;31m         \u001b[0;34m\"Spatial indexes require either `rtree` or `pygeos`. \"\u001b[0m\u001b[0;34m\u001b[0m\u001b[0;34m\u001b[0m\u001b[0m\n\u001b[0m\u001b[1;32m     23\u001b[0m         \u001b[0;34m\"See installation instructions at https://geopandas.org/install.html\"\u001b[0m\u001b[0;34m\u001b[0m\u001b[0;34m\u001b[0m\u001b[0m\n\u001b[1;32m     24\u001b[0m     )\n",
      "\u001b[0;31mImportError\u001b[0m: Spatial indexes require either `rtree` or `pygeos`. See installation instructions at https://geopandas.org/install.html"
     ]
    }
   ],
   "source": [
    "ak_places = gpd.clip(places, alaska)"
   ]
  },
  {
   "cell_type": "code",
   "execution_count": 41,
   "id": "00cb769f-1b16-4975-b0ee-c7648b6710ad",
   "metadata": {
    "tags": []
   },
   "outputs": [],
   "source": [
    "## when this works, map it subbing in ak_places for places"
   ]
  },
  {
   "cell_type": "code",
   "execution_count": 45,
   "id": "59fd7b15-2eca-471b-a116-ed9bd1ad9011",
   "metadata": {
    "tags": []
   },
   "outputs": [
    {
     "name": "stdout",
     "output_type": "stream",
     "text": [
      "None\n"
     ]
    }
   ],
   "source": [
    "## add in roads\n",
    "\n",
    "print(roads.crs) #um... that wasnt supposed to happen...."
   ]
  },
  {
   "cell_type": "code",
   "execution_count": 44,
   "id": "3f6be5c0-2bb4-4156-8152-05b9f68b7633",
   "metadata": {
    "tags": []
   },
   "outputs": [],
   "source": [
    "roads = gpd.read_file('data/ne_10m_roads.shp')"
   ]
  },
  {
   "cell_type": "markdown",
   "id": "513a71ec-4d8c-430f-a7f3-d2384532de62",
   "metadata": {},
   "source": [
    "# data selection\n",
    "\n",
    "It is god practice to try to reduce your data before modifying it geospatially\n",
    "\n",
    "to create a box we use the box function from shapely \n",
    "\n",
    "syntax\n",
    "box(minx, miny, maxx, maxy)\n",
    "\n",
    "if we want to use bounds fro geodataframe can use this syntax\n",
    "\n",
    "syntax\n",
    "box(*gdf.total_bounds)"
   ]
  },
  {
   "cell_type": "code",
   "execution_count": 47,
   "id": "df941b1b-90f9-494f-ab9a-276270527aa4",
   "metadata": {
    "tags": []
   },
   "outputs": [
    {
     "data": {
      "text/plain": [
       "array([-2175729.73162241,   404545.10791528,  1493082.30904445,\n",
       "        2383808.43520816])"
      ]
     },
     "execution_count": 47,
     "metadata": {},
     "output_type": "execute_result"
    }
   ],
   "source": [
    "# make an array with the (minx, miny, maxx, maxy) for alaska\n",
    "alaska.total_bounds"
   ]
  },
  {
   "cell_type": "code",
   "execution_count": 51,
   "id": "f056d4e9-22b5-48f1-8a49-7c2483098cc7",
   "metadata": {
    "tags": []
   },
   "outputs": [
    {
     "data": {
      "image/svg+xml": [
       "<svg xmlns=\"http://www.w3.org/2000/svg\" xmlns:xlink=\"http://www.w3.org/1999/xlink\" width=\"300\" height=\"300\" viewBox=\"-2322482.2132490845 257792.62628860964 3962317.0039202105 2272768.290546223\" preserveAspectRatio=\"xMinYMin meet\"><g transform=\"matrix(1,0,0,-1,0,2788353.543123442)\"><path fill-rule=\"evenodd\" fill=\"#66cc99\" stroke=\"#555555\" stroke-width=\"26415.446692801404\" opacity=\"0.6\" d=\"M 1493082.3090444512,404545.1079152841 L 1493082.3090444512,2383808.435208158 L -2175729.73162241,2383808.435208158 L -2175729.73162241,404545.1079152841 L 1493082.3090444512,404545.1079152841 z\" /></g></svg>"
      ],
      "text/plain": [
       "<POLYGON ((1493082.309 404545.108, 1493082.309 2383808.435, -2175729.732 238...>"
      ]
     },
     "execution_count": 51,
     "metadata": {},
     "output_type": "execute_result"
    }
   ],
   "source": [
    "# * is an unpacking operator, unpacks the contents of alaska.total_bounds and adds parameters to box\n",
    "bbox = box(*alaska.total_bounds)\n",
    "bbox"
   ]
  },
  {
   "cell_type": "code",
   "execution_count": 52,
   "id": "a97951f0-2a31-4232-a04a-ae22eb4e51df",
   "metadata": {
    "tags": []
   },
   "outputs": [],
   "source": [
    "# this is not a geodataframe, its a polygon floating in space"
   ]
  },
  {
   "cell_type": "code",
   "execution_count": 53,
   "id": "21750f2b-d94f-44a8-aee1-2911bdb2f312",
   "metadata": {
    "tags": []
   },
   "outputs": [
    {
     "data": {
      "text/html": [
       "<div>\n",
       "<style scoped>\n",
       "    .dataframe tbody tr th:only-of-type {\n",
       "        vertical-align: middle;\n",
       "    }\n",
       "\n",
       "    .dataframe tbody tr th {\n",
       "        vertical-align: top;\n",
       "    }\n",
       "\n",
       "    .dataframe thead th {\n",
       "        text-align: right;\n",
       "    }\n",
       "</style>\n",
       "<table border=\"1\" class=\"dataframe\">\n",
       "  <thead>\n",
       "    <tr style=\"text-align: right;\">\n",
       "      <th></th>\n",
       "      <th>geometry</th>\n",
       "    </tr>\n",
       "  </thead>\n",
       "  <tbody>\n",
       "    <tr>\n",
       "      <th>0</th>\n",
       "      <td>POLYGON ((1493082.309 404545.108, 1493082.309 ...</td>\n",
       "    </tr>\n",
       "  </tbody>\n",
       "</table>\n",
       "</div>"
      ],
      "text/plain": [
       "                                            geometry\n",
       "0  POLYGON ((1493082.309 404545.108, 1493082.309 ..."
      ]
     },
     "execution_count": 53,
     "metadata": {},
     "output_type": "execute_result"
    }
   ],
   "source": [
    "ak_bbox = gpd.GeoDataFrame(geometry = [bbox],\n",
    "                          crs = alaska.crs)\n",
    "ak_bbox"
   ]
  },
  {
   "cell_type": "code",
   "execution_count": 55,
   "id": "3454f4a6-e5cb-427c-9b17-8eec4826195b",
   "metadata": {
    "tags": []
   },
   "outputs": [
    {
     "ename": "NameError",
     "evalue": "name 'usa_roads' is not defined",
     "output_type": "error",
     "traceback": [
      "\u001b[0;31m---------------------------------------------------------------------------\u001b[0m",
      "\u001b[0;31mNameError\u001b[0m                                 Traceback (most recent call last)",
      "\u001b[0;32m/tmp/ipykernel_47880/97770492.py\u001b[0m in \u001b[0;36m<module>\u001b[0;34m\u001b[0m\n\u001b[1;32m      1\u001b[0m \u001b[0;31m# one liner to reproject and clip\u001b[0m\u001b[0;34m\u001b[0m\u001b[0;34m\u001b[0m\u001b[0;34m\u001b[0m\u001b[0m\n\u001b[1;32m      2\u001b[0m \u001b[0;34m\u001b[0m\u001b[0m\n\u001b[0;32m----> 3\u001b[0;31m \u001b[0mak_roads\u001b[0m \u001b[0;34m=\u001b[0m \u001b[0mgpd\u001b[0m\u001b[0;34m.\u001b[0m\u001b[0mclip\u001b[0m\u001b[0;34m(\u001b[0m\u001b[0musa_roads\u001b[0m\u001b[0;34m.\u001b[0m\u001b[0mto_crs\u001b[0m\u001b[0;34m,\u001b[0m \u001b[0mak_bbox\u001b[0m\u001b[0;34m)\u001b[0m\u001b[0;34m\u001b[0m\u001b[0;34m\u001b[0m\u001b[0m\n\u001b[0m\u001b[1;32m      4\u001b[0m \u001b[0;34m\u001b[0m\u001b[0m\n\u001b[1;32m      5\u001b[0m \u001b[0mak_roads\u001b[0m\u001b[0;34m.\u001b[0m\u001b[0mplot\u001b[0m\u001b[0;34m(\u001b[0m\u001b[0;34m)\u001b[0m\u001b[0;34m\u001b[0m\u001b[0;34m\u001b[0m\u001b[0m\n",
      "\u001b[0;31mNameError\u001b[0m: name 'usa_roads' is not defined"
     ]
    }
   ],
   "source": [
    "# one liner to reproject and clip\n",
    "\n",
    "ak_roads = gpd.clip(usa_roads.to_crs, ak_bbox)\n",
    "\n",
    "ak_roads.plot()"
   ]
  },
  {
   "cell_type": "code",
   "execution_count": null,
   "id": "ff48e086-266d-4acd-a4fd-ba5869e7dabf",
   "metadata": {},
   "outputs": [],
   "source": [
    "# make a plot \n",
    "\n",
    "fig, ax = plt.subplots(figsize=(12,8))\n",
    "\n",
    "ax.axis('off')\n",
    "\n",
    "# more stuff that I can't read"
   ]
  }
 ],
 "metadata": {
  "kernelspec": {
   "display_name": "Python 3 (ipykernel)",
   "language": "python",
   "name": "python3"
  },
  "language_info": {
   "codemirror_mode": {
    "name": "ipython",
    "version": 3
   },
   "file_extension": ".py",
   "mimetype": "text/x-python",
   "name": "python",
   "nbconvert_exporter": "python",
   "pygments_lexer": "ipython3",
   "version": "3.7.13"
  }
 },
 "nbformat": 4,
 "nbformat_minor": 5
}
